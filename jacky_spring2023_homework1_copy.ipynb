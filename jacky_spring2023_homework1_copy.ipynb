{
  "nbformat": 4,
  "nbformat_minor": 0,
  "metadata": {
    "colab": {
      "provenance": [],
      "include_colab_link": true
    },
    "kernelspec": {
      "name": "python3",
      "display_name": "Python 3"
    },
    "language_info": {
      "name": "python"
    }
  },
  "cells": [
    {
      "cell_type": "markdown",
      "metadata": {
        "id": "view-in-github",
        "colab_type": "text"
      },
      "source": [
        "<a href=\"https://colab.research.google.com/github/jackychen08/ML_Homework/blob/master/jacky_spring2023_homework1_copy.ipynb\" target=\"_parent\"><img src=\"https://colab.research.google.com/assets/colab-badge.svg\" alt=\"Open In Colab\"/></a>"
      ]
    },
    {
      "cell_type": "markdown",
      "metadata": {
        "id": "eLm_JxCxrkIE"
      },
      "source": [
        "<center> <h1> CSCI 601.471/671 NLP: Self-supervised Models </h1> </center>\n",
        "\n",
        "<center> <h2> Homework 1: Doing Things with Word Embeddings </h2> </center>\n",
        "\n",
        "In this homework, we will explore word vectors which are a way of attaching meanings to the words of a language.\n",
        "Because word embeddings are very computionally expensive to train, most ML practitioners will load a pre-trained set of embeddings. \n",
        "\n",
        "**After this assignment you will be able to:**\n",
        "\n",
        "- Load pre-trained word vectors, and measure similarity using cosine similarity\n",
        "- Use word embeddings to solve word analogy problems such as Man is to Woman as King is to ______. \n",
        "- Visualize word embeddings and find insights in them \n",
        "\n",
        "\n",
        "Note on Terminology: The terms \"word vectors\" and \"word embeddings\" are often used interchangeably. The term \"embedding\" refers to the fact that we are encoding aspects of a word's meaning in a lower dimensional space. As Wikipedia states, \"conceptually it involves a mathematical embedding from a space with one dimension per word to a continuous vector space with a much lower dimension\".\n",
        "\n",
        "\n",
        "# Setup\n",
        "\n",
        "For this and other assignments, we will be using Google Colab, for both code as well as descriptive questions. Your task is to finish all the questions in the Colab notebook and then upload a PDF version of the notebook, and a viewable link on Gradescope.\n",
        "\n",
        "\n",
        "#### Google colaboratory\n",
        "\n",
        "Before getting started, get familiar with google colaboratory:\n",
        "https://colab.research.google.com/notebooks/welcome.ipynb\n",
        "\n",
        "This is a neat python environment that works in the cloud and does not require you to\n",
        "set up anything on your personal machine\n",
        "(it also has some built-in IDE features that make writing code easier).\n",
        "Moreover, it allows you to copy any existing collaboratory file, alter it and share\n",
        "with other people. In this homework, we will ask you to copy current colaboraty,\n",
        "complete all the tasks and share your colaboratory notebook with us so\n",
        "that we can grade it. \n",
        "\n",
        "\n",
        "### Submission\n",
        "\n",
        "Before you start working on this homework do the following steps:\n",
        "\n",
        "1. Press __File > Save a copy in Drive...__ tab. This will allow you to have your own copy and change it.\n",
        "2. Follow all the steps in this collaboratory file and write / change / uncomment code as necessary.\n",
        "3. Do not forget to occasionally press __File > Save__ tab to save your progress.\n",
        "4. After all the changes are done and progress is saved press __Share__ button (top right corner of the page), press __get shareable link__ and make sure you have the option __Anyone with the link can view__ selected. Copy the link and paste it in the box below.\n",
        "5. After completing the notebook, press __File > Download .ipynb__ to download a local copy on your computer, and then upload the file to Gradescope.\n",
        "\n",
        "\n",
        "__Paste your notebook link in the box below.__ _(0 points)_"
      ]
    },
    {
      "cell_type": "code",
      "execution_count": null,
      "metadata": {
        "id": "k_yGWG2_-Sff"
      },
      "outputs": [],
      "source": [
        "# Paste your Colab notebook link here "
      ]
    },
    {
      "cell_type": "markdown",
      "metadata": {
        "id": "8jNA3hjUU1aM"
      },
      "source": [
        "\n",
        "\n",
        "Let's get started! Run the following cell to load the packages you will need."
      ]
    },
    {
      "cell_type": "code",
      "execution_count": null,
      "metadata": {
        "id": "cmfbFUVaU5yD",
        "colab": {
          "base_uri": "https://localhost:8080/"
        },
        "outputId": "05a08589-8c84-48bf-ae5e-c5cc420c7dda"
      },
      "outputs": [
        {
          "output_type": "stream",
          "name": "stdout",
          "text": [
            "Looking in indexes: https://pypi.org/simple, https://us-python.pkg.dev/colab-wheels/public/simple/\n",
            "Requirement already satisfied: gensim in /usr/local/lib/python3.8/dist-packages (3.6.0)\n",
            "Requirement already satisfied: six>=1.5.0 in /usr/local/lib/python3.8/dist-packages (from gensim) (1.15.0)\n",
            "Requirement already satisfied: smart-open>=1.2.1 in /usr/local/lib/python3.8/dist-packages (from gensim) (6.3.0)\n",
            "Requirement already satisfied: scipy>=0.18.1 in /usr/local/lib/python3.8/dist-packages (from gensim) (1.7.3)\n",
            "Requirement already satisfied: numpy>=1.11.3 in /usr/local/lib/python3.8/dist-packages (from gensim) (1.21.6)\n"
          ]
        }
      ],
      "source": [
        "!pip install gensim # we will use the GenSim library for loading pre-computed word embedding "
      ]
    },
    {
      "cell_type": "code",
      "execution_count": null,
      "metadata": {
        "colab": {
          "base_uri": "https://localhost:8080/"
        },
        "id": "FsBEK6BuU8qB",
        "outputId": "0216f0a7-412e-4125-e120-03ad17573235"
      },
      "outputs": [
        {
          "output_type": "stream",
          "name": "stdout",
          "text": [
            "[==================================================] 100.0% 1662.8/1662.8MB downloaded\n"
          ]
        }
      ],
      "source": [
        "import gensim.downloader\n",
        "\n",
        "# gensim.downloader.info()\n",
        "\n",
        "# download the pre-computed embeddings \n",
        "# embeddings = gensim.downloader.load('glove-twitter-50')\n",
        "embeddings = gensim.downloader.load('word2vec-google-news-300')"
      ]
    },
    {
      "cell_type": "markdown",
      "metadata": {
        "id": "bLoXHwriU9-Z"
      },
      "source": [
        "From the lecture you might remember that one-hot vectors do not do a good job capturing what words are similar. Let's see how learned word embeddings capture the meaning of individual words. "
      ]
    },
    {
      "cell_type": "markdown",
      "metadata": {
        "id": "9hHkihu6XEaH"
      },
      "source": [
        "To do so, we will start by using the word embeddings to find most similar words to a given words. "
      ]
    },
    {
      "cell_type": "code",
      "execution_count": null,
      "metadata": {
        "colab": {
          "base_uri": "https://localhost:8080/",
          "height": 183
        },
        "id": "FtnmkWaVU_g1",
        "outputId": "f2954c13-4e23-4167-e24d-0fbf9d976174"
      },
      "outputs": [
        {
          "output_type": "error",
          "ename": "NameError",
          "evalue": "ignored",
          "traceback": [
            "\u001b[0;31m---------------------------------------------------------------------------\u001b[0m",
            "\u001b[0;31mNameError\u001b[0m                                 Traceback (most recent call last)",
            "\u001b[0;32m<ipython-input-1-4f958bf52336>\u001b[0m in \u001b[0;36m<module>\u001b[0;34m\u001b[0m\n\u001b[1;32m      1\u001b[0m \u001b[0;31m# Now let's see see what GenSim's API thinks are the most similar words to 'cat'\u001b[0m\u001b[0;34m\u001b[0m\u001b[0;34m\u001b[0m\u001b[0;34m\u001b[0m\u001b[0m\n\u001b[0;32m----> 2\u001b[0;31m \u001b[0membeddings\u001b[0m\u001b[0;34m.\u001b[0m\u001b[0mmost_similar\u001b[0m\u001b[0;34m(\u001b[0m\u001b[0;34m\"cat\"\u001b[0m\u001b[0;34m)\u001b[0m\u001b[0;34m\u001b[0m\u001b[0;34m\u001b[0m\u001b[0m\n\u001b[0m",
            "\u001b[0;31mNameError\u001b[0m: name 'embeddings' is not defined"
          ]
        }
      ],
      "source": [
        "# Now let's see see what GenSim's API thinks are the most similar words to 'cat'\n",
        "embeddings.most_similar(\"cat\")"
      ]
    },
    {
      "cell_type": "markdown",
      "metadata": {
        "id": "u-rKT4IiVBq2"
      },
      "source": [
        "Interesting! We can see that most similar words to `cat` are animal names, even though the algorthm is not explicitly taught about the relationship `cat` or `dog`. This is the power of self-supervised learning! \n",
        "\n",
        "\n",
        "How does this `most_similar()` function works? Next we will implement our own similarity function! "
      ]
    },
    {
      "cell_type": "markdown",
      "metadata": {
        "id": "Obz0r8lLVECr"
      },
      "source": [
        "# 1 - Cosine similarity\n",
        "\n",
        "To measure how similar two words are, we need a way to measure the degree of similarity between two embedding vectors for the two words. Given two vectors $u$ and $v$, cosine similarity is defined as follows: \n",
        "\n",
        "$$\\text{CosineSimilarity(u, v)} = \\frac {u . v} {||u||_2 ||v||_2} = cos(\\theta) \\tag{1}$$\n",
        "\n",
        "where $u.v$ is the dot product (or inner product) of two vectors, $||u||_2$ is the norm (or length) of the vector $u$, and $\\theta$ is the angle between $u$ and $v$. This similarity depends on the angle between $u$ and $v$. If $u$ and $v$ are very similar, their cosine similarity will be close to 1; if they are dissimilar, the cosine similarity will take a smaller value. \n",
        "\n",
        "\n",
        "<img src=\"https://drive.google.com/uc?id=1kEvPpN0awli15o_9h43iKd-J_GwsFqkf\" style=\"width:800px;height:250px;\">\n",
        "<caption><center> **Figure 1**: The cosine of the angle between two vectors is a measure of how similar they are</center></caption>\n",
        "\n",
        "**Reminder**: The norm of $u$ is defined as $ ||u||_2 = \\sqrt{\\sum_{i=1}^{n} u_i^2}$\n",
        "\n",
        "\n",
        "\n",
        "\n",
        "## **Question 1:** Implementing similarity functions \n",
        "Implement the function `cosine_similarity()` to evaluate similarity between word vectors.\n",
        "\n",
        "\n",
        "**Note** It might be useful to use the `NumpPy` library for the following problems. If you're not familiar with this library, [this set of examples](https://cs231n.github.io/python-numpy-tutorial/) might be helpful. \n",
        "\n",
        "\n",
        " ### <font color=\"red\">Write your answer below.</font>"
      ]
    },
    {
      "cell_type": "code",
      "execution_count": null,
      "metadata": {
        "id": "KCET2RFDVFsr"
      },
      "outputs": [],
      "source": [
        "import numpy as np \n",
        "\n",
        "# GRADED FUNCTION: cosine_similarity\n",
        "# In doing so, please use numpy function \n",
        "# TODO: are u, v numpy vectors \n",
        "\n",
        "def cosine_similarity(u, v):\n",
        "    \"\"\"\n",
        "    Cosine similarity reflects the degree of similariy between u and v\n",
        "        \n",
        "    Arguments:\n",
        "        u -- a word vector of shape (n,)          \n",
        "        v -- a word vector of shape (n,)\n",
        "\n",
        "    Returns:\n",
        "        cosine_similarity -- the cosine similarity between u and v defined by the formula above.\n",
        "    \"\"\"\n",
        "    \n",
        "    ### START CODE HERE ###\n",
        "    ### END CODE HERE ###\n",
        "    \n",
        "    return cosine_similarity"
      ]
    },
    {
      "cell_type": "code",
      "execution_count": null,
      "metadata": {
        "id": "r9SYps4yVHgD"
      },
      "outputs": [],
      "source": [
        "father = embeddings[\"father\"]\n",
        "mother = embeddings[\"mother\"]\n",
        "ball = embeddings[\"ball\"]\n",
        "crocodile = embeddings[\"crocodile\"]\n",
        "france = embeddings[\"france\"]\n",
        "italy = embeddings[\"italy\"]\n",
        "paris = embeddings[\"paris\"]\n",
        "rome = embeddings[\"rome\"]\n",
        "\n",
        "print(\"cosine_similarity(father, mother) = \", cosine_similarity(father, mother))\n",
        "print(\"cosine_similarity(ball, crocodile) = \",cosine_similarity(ball, crocodile))\n",
        "print(\"cosine_similarity(france - paris, rome - italy) = \",cosine_similarity(france - paris, rome - italy))"
      ]
    },
    {
      "cell_type": "markdown",
      "metadata": {
        "id": "LwApeYKeVKG_"
      },
      "source": [
        "**Expected Output**:\n",
        "\n",
        "<table>\n",
        "    <tr>\n",
        "        <td>\n",
        "            **cosine_similarity(father, mother)** =\n",
        "        </td>\n",
        "        <td>\n",
        "         0.79014826\n",
        "        </td>\n",
        "    </tr>\n",
        "        <tr>\n",
        "        <td>\n",
        "            **cosine_similarity(ball, crocodile)** =\n",
        "        </td>\n",
        "        <td>\n",
        "         0.10283584\n",
        "        </td>\n",
        "    </tr>\n",
        "        <tr>\n",
        "        <td>\n",
        "            **cosine_similarity(france - paris, rome - italy)** =\n",
        "        </td>\n",
        "        <td>\n",
        "         -0.19887\n",
        "        </td>\n",
        "    </tr>\n",
        "</table>"
      ]
    },
    {
      "cell_type": "markdown",
      "metadata": {
        "id": "VYrCCVNGVMl3"
      },
      "source": [
        "# 2 - Nearest Words \n",
        "Now that we have our similarity function implemented, next we will implement a function for measuring nearest words. \n",
        "\n",
        "\n",
        "## **Question 2:** Implementing nearest neighbor functions \n",
        "Complete the following function `my_most_similar` so that it computes the nearest neighbor words. "
      ]
    },
    {
      "cell_type": "code",
      "execution_count": null,
      "metadata": {
        "id": "XTNkpz25VONQ"
      },
      "outputs": [],
      "source": [
        "# a function that resturns the top `k` most similar words to `input_word` \n",
        "def my_most_similar(input_word, k): \n",
        "  words = embeddings.vocab.keys() # list of words covered by this word embedding \n",
        "  input_word_emd = embeddings[input_word]\n",
        "\n",
        "  ### START CODE HERE ###\n",
        "  ### END CODE HERE ###\n",
        "\n",
        "  return top_k_most_similar_words\n",
        "\n",
        "\n",
        "my_most_similar('cat', 10)"
      ]
    },
    {
      "cell_type": "markdown",
      "metadata": {
        "id": "Un6kZfFSVPrA"
      },
      "source": [
        "To verify your work, make sure that the outcome of your implementation matches the output you got a few steps earlier when you ran `embeddings.most_similar(.)` function. "
      ]
    },
    {
      "cell_type": "markdown",
      "metadata": {
        "id": "04oDURrDVRHM"
      },
      "source": [
        "## 3 - Word analogy task\n",
        "\n",
        "In the word analogy task, we complete the sentence <font color='brown'>\"*a* is to *b* as *c* is to **____**\"</font>. An example is <font color='brown'> '*man* is to *woman* as *king* is to *queen*' </font>. In detail, we are trying to find a word *d*, such that the associated word vectors $e_a, e_b, e_c, e_d$ are related in the following manner: $e_b - e_a \\approx e_d - e_c$. We will measure the similarity between $e_b - e_a$ and $e_d - e_c$ using cosine similarity. \n",
        "\n",
        "## **Question 3:** Analogies \n",
        "Complete the code below to be able to perform word analogies. \n",
        "\n"
      ]
    },
    {
      "cell_type": "code",
      "execution_count": null,
      "metadata": {
        "id": "-dT9krPjVSyv"
      },
      "outputs": [],
      "source": [
        "\n",
        "def complete_analogy(word_a, word_b, word_c):\n",
        "    \"\"\"\n",
        "    Performs the word analogy task as explained above: a is to b as c is to ____. \n",
        "    \n",
        "    Arguments:\n",
        "    word_a -- a word, string\n",
        "    word_b -- a word, string\n",
        "    word_c -- a word, string\n",
        "    \n",
        "    Returns:\n",
        "    best_word --  the word such that v_b - v_a is close to v_best_word - v_c, as measured by cosine similarity\n",
        "    \"\"\"\n",
        "    \n",
        "    # convert words to lower case\n",
        "    word_a, word_b, word_c = word_a.lower(), word_b.lower(), word_c.lower()\n",
        "    \n",
        "    ### START CODE HERE ###\n",
        "    ### END CODE HERE ###\n",
        "    \n",
        "    words = embeddings.vocab.keys() # list of words covered by this word embedding \n",
        "    max_cosine_sim = -100              # Initialize max_cosine_sim to a large negative number\n",
        "    best_word = None                   # Initialize best_word with None, it will help keep track of the word to output\n",
        "\n",
        "    # loop over the whole word vector set\n",
        "    for w in words:        \n",
        "        # to avoid best_word being one of the input words, pass on them.\n",
        "        if w in [word_a, word_b, word_c] :\n",
        "            continue\n",
        "        \n",
        "        ### START CODE HERE ###\n",
        "        ### END CODE HERE ###\n",
        "        \n",
        "    return best_word"
      ]
    },
    {
      "cell_type": "markdown",
      "metadata": {
        "id": "USz830sIVUhc"
      },
      "source": [
        "Run the cell below to test your code, this may take 1-2 minutes."
      ]
    },
    {
      "cell_type": "code",
      "execution_count": null,
      "metadata": {
        "id": "5ek7OSJEVVq4"
      },
      "outputs": [],
      "source": [
        "triads_to_try = [('man', 'woman', 'boy'), ('small', 'smaller', 'large')]\n",
        "for triad in triads_to_try:\n",
        "    print ('{} -> {} :: {} -> {}'.format( *triad, complete_analogy(*triad)))"
      ]
    },
    {
      "cell_type": "markdown",
      "metadata": {
        "id": "GeHuweMCVXRO"
      },
      "source": [
        "**Expected Output**:\n",
        "\n",
        "<table>\n",
        "    <!-- <tr>\n",
        "        <td>\n",
        "            **italy -> italian** ::\n",
        "        </td>\n",
        "        <td>\n",
        "         spain -> spanish\n",
        "        </td>\n",
        "    </tr>\n",
        "        <tr>\n",
        "        <td>\n",
        "            **india -> delhi** ::\n",
        "        </td>\n",
        "        <td>\n",
        "         japan -> tokyo\n",
        "        </td>\n",
        "    </tr> -->\n",
        "        <tr>\n",
        "        <td>\n",
        "            **man -> woman ** ::\n",
        "        </td>\n",
        "        <td>\n",
        "         boy -> girl\n",
        "        </td>\n",
        "    </tr>\n",
        "        <tr>\n",
        "        <td>\n",
        "            **small -> smaller ** ::\n",
        "        </td>\n",
        "        <td>\n",
        "         large -> larger\n",
        "        </td>\n",
        "    </tr>\n",
        "</table>"
      ]
    },
    {
      "cell_type": "markdown",
      "metadata": {
        "id": "sOf0FQYXVXYP"
      },
      "source": [
        "Once you get the correct expected output, please feel free to modify the input cells above to test your own analogies. Try to find some other analogy pairs that do work, but also find some where the algorithm doesn't give the right answer: For example, you can try small->smaller as big->?.  "
      ]
    },
    {
      "cell_type": "markdown",
      "metadata": {
        "id": "IqV9q3YQXT9k"
      },
      "source": [
        "# 4 - Visualizing Word Embeddings \n",
        "\n",
        "To inspect the meanings behind these vectors we will plot them. Given that the embeddings are in 300 dimensional space, it is not possible to visualizing them immediately. Instead, we will first project them into a 2D space. \n"
      ]
    },
    {
      "cell_type": "markdown",
      "source": [
        "## 4.1 Random projection into low-dimensional space \n",
        "How do we project high-dimensional vectors into lower-dimensional space? Here we will consider a simple solution: \n",
        " - Pick a random matrix (here, a random Gaussian matrix)\n",
        " - Multiply each word embedding by this random matrix so that the resulting vector has a much lower dimension.  \n",
        "\n",
        "The following function is supposed to implement this idea. \n",
        "\n",
        "## **Question 4:** projecting down the world embeddings \n",
        "Complete the code below to be able to project word embeddings into lower dimension.  "
      ],
      "metadata": {
        "id": "xzbxbP4AJaos"
      }
    },
    {
      "cell_type": "code",
      "source": [
        "def random_gaussian_projection(words, target_dimension, input_dimension):\n",
        "\n",
        "    random_seed = 42 # the answer to the ultimate question of life, the universe, and everything\n",
        "    rng = np.random.RandomState(random_seed) \n",
        "    \n",
        "    # Generate a dense Gaussian random matrix. The components of the random matrix are drawn from N(0, 1.0 / target_dimension).\n",
        "    projection_matrix = rng.normal(\n",
        "        loc=0.0, scale=1.0 / np.sqrt(target_dimension), size=(target_dimension, input_dimension)\n",
        "    )\n",
        "\n",
        "    ### START CODE HERE ###\n",
        "    ### END CODE HERE ###\n",
        "\n",
        "    return projected_word_embeddings"
      ],
      "metadata": {
        "id": "6RRgo8gu4BWP"
      },
      "execution_count": null,
      "outputs": []
    },
    {
      "cell_type": "markdown",
      "source": [
        "Now let's apply this function on a bunch of random words: "
      ],
      "metadata": {
        "id": "mvVXPRY4LJOQ"
      }
    },
    {
      "cell_type": "code",
      "source": [
        "words = ['cat', 'grain', 'wheat', 'cow', 'cheetah', 'crow',  'corn', 'maize', 'dog', 'camel', 'rice', 'barley', 'grains', 'tiger', 'elephant', 'lion', 'turtle', 'rabbit', 'quinoa']\n",
        "\n",
        "projected_word_embeddings = random_gaussian_projection(words, target_dimension=2, input_dimension=300)\n",
        "\n",
        "projected_word_embeddings.shape"
      ],
      "metadata": {
        "colab": {
          "base_uri": "https://localhost:8080/"
        },
        "id": "k45sXmH3___j",
        "outputId": "7ea1b36d-55e1-476d-ea56-eb8b192a6fbe"
      },
      "execution_count": null,
      "outputs": [
        {
          "output_type": "execute_result",
          "data": {
            "text/plain": [
              "(19, 2)"
            ]
          },
          "metadata": {},
          "execution_count": 96
        }
      ]
    },
    {
      "cell_type": "markdown",
      "source": [
        "As you can see, the result is a collection of vectors with two dimensions. "
      ],
      "metadata": {
        "id": "QAvMw6CGMdWH"
      }
    },
    {
      "cell_type": "markdown",
      "source": [
        "Now let's write a function to plot a set of 2D vectors in 2D space. For graphs, we will use `Matplotlib` (plt). A good way to make a plot is to look at the [Matplotlib gallery](https://matplotlib.org/stable/gallery/index.html), find a plot that looks somewhat like what you want, and adapt the code they give."
      ],
      "metadata": {
        "id": "f5Eq55FpJHF8"
      }
    },
    {
      "cell_type": "code",
      "source": [
        "!pip install mpld3"
      ],
      "metadata": {
        "colab": {
          "base_uri": "https://localhost:8080/"
        },
        "id": "cYYoOyIR647Y",
        "outputId": "b80c4e90-c406-4948-ddc0-ea2a7812f379"
      },
      "execution_count": null,
      "outputs": [
        {
          "output_type": "stream",
          "name": "stdout",
          "text": [
            "Looking in indexes: https://pypi.org/simple, https://us-python.pkg.dev/colab-wheels/public/simple/\n",
            "Collecting mpld3\n",
            "  Downloading mpld3-0.5.9-py3-none-any.whl (201 kB)\n",
            "\u001b[K     |████████████████████████████████| 201 kB 5.1 MB/s \n",
            "\u001b[?25hRequirement already satisfied: matplotlib in /usr/local/lib/python3.8/dist-packages (from mpld3) (3.2.2)\n",
            "Requirement already satisfied: jinja2 in /usr/local/lib/python3.8/dist-packages (from mpld3) (2.11.3)\n",
            "Requirement already satisfied: MarkupSafe>=0.23 in /usr/local/lib/python3.8/dist-packages (from jinja2->mpld3) (2.0.1)\n",
            "Requirement already satisfied: kiwisolver>=1.0.1 in /usr/local/lib/python3.8/dist-packages (from matplotlib->mpld3) (1.4.4)\n",
            "Requirement already satisfied: cycler>=0.10 in /usr/local/lib/python3.8/dist-packages (from matplotlib->mpld3) (0.11.0)\n",
            "Requirement already satisfied: pyparsing!=2.0.4,!=2.1.2,!=2.1.6,>=2.0.1 in /usr/local/lib/python3.8/dist-packages (from matplotlib->mpld3) (3.0.9)\n",
            "Requirement already satisfied: numpy>=1.11 in /usr/local/lib/python3.8/dist-packages (from matplotlib->mpld3) (1.21.6)\n",
            "Requirement already satisfied: python-dateutil>=2.1 in /usr/local/lib/python3.8/dist-packages (from matplotlib->mpld3) (2.8.2)\n",
            "Requirement already satisfied: six>=1.5 in /usr/local/lib/python3.8/dist-packages (from python-dateutil>=2.1->matplotlib->mpld3) (1.15.0)\n",
            "Installing collected packages: mpld3\n",
            "Successfully installed mpld3-0.5.9\n"
          ]
        }
      ]
    },
    {
      "cell_type": "code",
      "execution_count": null,
      "metadata": {
        "id": "CFkImd4gXFxu"
      },
      "outputs": [],
      "source": [
        "import matplotlib.pyplot as plt\n",
        "\n",
        "# mpld3 library will make our plots more beautiful and easier to inspect  \n",
        "%matplotlib inline\n",
        "import mpld3\n",
        "mpld3.enable_notebook()\n",
        "\n",
        "def plot_embeddings(input_embeddings, word2Ind, words):\n",
        "    \"\"\" Plot in a scatterplot the embeddings of the words specified in the list \"words\".\n",
        "        NOTE: do not plot all the words listed in M_reduced / word2Ind.\n",
        "        Include a label next to each point.\n",
        "        \n",
        "        Params:\n",
        "            input_embeddings (numpy matrix of shape (number of unique words in the corpus , k)): matrix of k-dimensioal word embeddings\n",
        "            word2Ind (dict): dictionary that maps word to indices for matrix M\n",
        "            words (list of strings): words whose embeddings we want to visualize\n",
        "    \"\"\"\n",
        "\n",
        "    words_index = [word2Ind[word] for word in words]\n",
        "    print(words_index)\n",
        "    x_coords = [input_embeddings[word_index][0] for word_index in words_index]\n",
        "    y_coords = [input_embeddings[word_index][1] for word_index in words_index]\n",
        "    \n",
        "    for i, word in enumerate(words):\n",
        "        x = x_coords[i]\n",
        "        y = y_coords[i]\n",
        "        plt.scatter(x, y, marker = 'x', color = 'red')\n",
        "        plt.text(x + 0.0003, y + 0.0003, word, fontsize = 9)\n",
        "    plt.show()\n"
      ]
    },
    {
      "cell_type": "code",
      "source": [
        "# ---------------------\n",
        "# Run this sanity check\n",
        "# Note that this not an exhaustive check for correctness.\n",
        "# The plot produced should look like the \"test solution plot\" depicted below. \n",
        "# ---------------------\n",
        "\n",
        "print (\"-\" * 80)\n",
        "print (\"Outputted Plot:\")\n",
        "\n",
        "M_reduced_plot_test = np.array([[1, 1], [-1, -1], [1, -1], [-1, 1], [0, 0]])\n",
        "word2Ind_plot_test = {'test1': 0, 'test2': 1, 'test3': 2, 'test4': 3, 'test5': 4}\n",
        "words_test = ['test1', 'test2', 'test3', 'test4', 'test5']\n",
        "plot_embeddings(M_reduced_plot_test, word2Ind_plot_test, words_test)\n",
        "\n",
        "print (\"-\" * 80)"
      ],
      "metadata": {
        "colab": {
          "base_uri": "https://localhost:8080/",
          "height": 379
        },
        "id": "dX5XOXU43bK0",
        "outputId": "1b57d61c-f9e3-4641-9d1e-8fd955c938ab"
      },
      "execution_count": null,
      "outputs": [
        {
          "output_type": "stream",
          "name": "stdout",
          "text": [
            "--------------------------------------------------------------------------------\n",
            "Outputted Plot:\n",
            "[0, 1, 2, 3, 4]\n"
          ]
        },
        {
          "output_type": "display_data",
          "data": {
            "text/plain": [
              "<Figure size 432x288 with 1 Axes>"
            ],
            "text/html": [
              "\n",
              "\n",
              "<style>\n",
              "\n",
              "</style>\n",
              "\n",
              "<div id=\"fig_el681403669035905285825320607\"></div>\n",
              "<script>\n",
              "function mpld3_load_lib(url, callback){\n",
              "  var s = document.createElement('script');\n",
              "  s.src = url;\n",
              "  s.async = true;\n",
              "  s.onreadystatechange = s.onload = callback;\n",
              "  s.onerror = function(){console.warn(\"failed to load library \" + url);};\n",
              "  document.getElementsByTagName(\"head\")[0].appendChild(s);\n",
              "}\n",
              "\n",
              "if(typeof(mpld3) !== \"undefined\" && mpld3._mpld3IsLoaded){\n",
              "   // already loaded: just create the figure\n",
              "   !function(mpld3){\n",
              "       \n",
              "       mpld3.draw_figure(\"fig_el681403669035905285825320607\", {\"width\": 432.0, \"height\": 288.0, \"axes\": [{\"bbox\": [0.125, 0.125, 0.775, 0.755], \"xlim\": [-1.1, 1.1], \"ylim\": [-1.1, 1.1], \"xdomain\": [-1.1, 1.1], \"ydomain\": [-1.1, 1.1], \"xscale\": \"linear\", \"yscale\": \"linear\", \"axes\": [{\"position\": \"bottom\", \"nticks\": 11, \"tickvalues\": null, \"tickformat_formatter\": \"\", \"tickformat\": null, \"scale\": \"linear\", \"fontsize\": 10.0, \"grid\": {\"gridOn\": false}, \"visible\": true}, {\"position\": \"left\", \"nticks\": 11, \"tickvalues\": null, \"tickformat_formatter\": \"\", \"tickformat\": null, \"scale\": \"linear\", \"fontsize\": 10.0, \"grid\": {\"gridOn\": false}, \"visible\": true}], \"axesbg\": \"#FFFFFF\", \"axesbgalpha\": null, \"zoomable\": true, \"id\": \"el68140367230095808\", \"lines\": [], \"paths\": [], \"markers\": [], \"texts\": [{\"text\": \"test1\", \"position\": [1.0003, 1.0003], \"coordinates\": \"data\", \"h_anchor\": \"start\", \"v_baseline\": \"auto\", \"rotation\": -0.0, \"fontsize\": 9.0, \"color\": \"#000000\", \"alpha\": 1, \"zorder\": 3, \"id\": \"el68140367055196656\"}, {\"text\": \"test2\", \"position\": [-0.9997, -0.9997], \"coordinates\": \"data\", \"h_anchor\": \"start\", \"v_baseline\": \"auto\", \"rotation\": -0.0, \"fontsize\": 9.0, \"color\": \"#000000\", \"alpha\": 1, \"zorder\": 3, \"id\": \"el68140367055198144\"}, {\"text\": \"test3\", \"position\": [1.0003, -0.9997], \"coordinates\": \"data\", \"h_anchor\": \"start\", \"v_baseline\": \"auto\", \"rotation\": -0.0, \"fontsize\": 9.0, \"color\": \"#000000\", \"alpha\": 1, \"zorder\": 3, \"id\": \"el68140367055199632\"}, {\"text\": \"test4\", \"position\": [-0.9997, 1.0003], \"coordinates\": \"data\", \"h_anchor\": \"start\", \"v_baseline\": \"auto\", \"rotation\": -0.0, \"fontsize\": 9.0, \"color\": \"#000000\", \"alpha\": 1, \"zorder\": 3, \"id\": \"el68140367055198720\"}, {\"text\": \"test5\", \"position\": [0.0003, 0.0003], \"coordinates\": \"data\", \"h_anchor\": \"start\", \"v_baseline\": \"auto\", \"rotation\": -0.0, \"fontsize\": 9.0, \"color\": \"#000000\", \"alpha\": 1, \"zorder\": 3, \"id\": \"el68140367055235008\"}], \"collections\": [{\"offsets\": \"data01\", \"xindex\": 0, \"yindex\": 1, \"paths\": [[[[-0.5, -0.5], [0.5, 0.5], [-0.5, 0.5], [0.5, -0.5]], [\"M\", \"L\", \"M\", \"L\"]]], \"pathtransforms\": [[6.0, 0.0, 0.0, 6.0, 0.0, 0.0]], \"alphas\": [null], \"edgecolors\": [\"#FF0000\"], \"facecolors\": [\"#FF0000\"], \"edgewidths\": [1.5], \"offsetcoordinates\": \"data\", \"pathcoordinates\": \"display\", \"zorder\": 1, \"id\": \"el68140367055146624\"}, {\"offsets\": \"data02\", \"xindex\": 0, \"yindex\": 1, \"paths\": [[[[-0.5, -0.5], [0.5, 0.5], [-0.5, 0.5], [0.5, -0.5]], [\"M\", \"L\", \"M\", \"L\"]]], \"pathtransforms\": [[6.0, 0.0, 0.0, 6.0, 0.0, 0.0]], \"alphas\": [null], \"edgecolors\": [\"#FF0000\"], \"facecolors\": [\"#FF0000\"], \"edgewidths\": [1.5], \"offsetcoordinates\": \"data\", \"pathcoordinates\": \"display\", \"zorder\": 1, \"id\": \"el68140367055197328\"}, {\"offsets\": \"data01\", \"xindex\": 0, \"yindex\": 2, \"paths\": [[[[-0.5, -0.5], [0.5, 0.5], [-0.5, 0.5], [0.5, -0.5]], [\"M\", \"L\", \"M\", \"L\"]]], \"pathtransforms\": [[6.0, 0.0, 0.0, 6.0, 0.0, 0.0]], \"alphas\": [null], \"edgecolors\": [\"#FF0000\"], \"facecolors\": [\"#FF0000\"], \"edgewidths\": [1.5], \"offsetcoordinates\": \"data\", \"pathcoordinates\": \"display\", \"zorder\": 1, \"id\": \"el68140367055198816\"}, {\"offsets\": \"data01\", \"xindex\": 2, \"yindex\": 0, \"paths\": [[[[-0.5, -0.5], [0.5, 0.5], [-0.5, 0.5], [0.5, -0.5]], [\"M\", \"L\", \"M\", \"L\"]]], \"pathtransforms\": [[6.0, 0.0, 0.0, 6.0, 0.0, 0.0]], \"alphas\": [null], \"edgecolors\": [\"#FF0000\"], \"facecolors\": [\"#FF0000\"], \"edgewidths\": [1.5], \"offsetcoordinates\": \"data\", \"pathcoordinates\": \"display\", \"zorder\": 1, \"id\": \"el68140367055200064\"}, {\"offsets\": \"data03\", \"xindex\": 0, \"yindex\": 1, \"paths\": [[[[-0.5, -0.5], [0.5, 0.5], [-0.5, 0.5], [0.5, -0.5]], [\"M\", \"L\", \"M\", \"L\"]]], \"pathtransforms\": [[6.0, 0.0, 0.0, 6.0, 0.0, 0.0]], \"alphas\": [null], \"edgecolors\": [\"#FF0000\"], \"facecolors\": [\"#FF0000\"], \"edgewidths\": [1.5], \"offsetcoordinates\": \"data\", \"pathcoordinates\": \"display\", \"zorder\": 1, \"id\": \"el68140367055234192\"}], \"images\": [], \"sharex\": [], \"sharey\": []}], \"data\": {\"data01\": [[1.0, 1.0, -1.0]], \"data02\": [[-1.0, -1.0]], \"data03\": [[0.0, 0.0]]}, \"id\": \"el68140366903590528\", \"plugins\": [{\"type\": \"reset\"}, {\"type\": \"zoom\", \"button\": true, \"enabled\": false}, {\"type\": \"boxzoom\", \"button\": true, \"enabled\": false}]});\n",
              "   }(mpld3);\n",
              "}else if(typeof define === \"function\" && define.amd){\n",
              "   // require.js is available: use it to load d3/mpld3\n",
              "   require.config({paths: {d3: \"https://d3js.org/d3.v5\"}});\n",
              "   require([\"d3\"], function(d3){\n",
              "      window.d3 = d3;\n",
              "      mpld3_load_lib(\"https://mpld3.github.io/js/mpld3.v0.5.9.js\", function(){\n",
              "         \n",
              "         mpld3.draw_figure(\"fig_el681403669035905285825320607\", {\"width\": 432.0, \"height\": 288.0, \"axes\": [{\"bbox\": [0.125, 0.125, 0.775, 0.755], \"xlim\": [-1.1, 1.1], \"ylim\": [-1.1, 1.1], \"xdomain\": [-1.1, 1.1], \"ydomain\": [-1.1, 1.1], \"xscale\": \"linear\", \"yscale\": \"linear\", \"axes\": [{\"position\": \"bottom\", \"nticks\": 11, \"tickvalues\": null, \"tickformat_formatter\": \"\", \"tickformat\": null, \"scale\": \"linear\", \"fontsize\": 10.0, \"grid\": {\"gridOn\": false}, \"visible\": true}, {\"position\": \"left\", \"nticks\": 11, \"tickvalues\": null, \"tickformat_formatter\": \"\", \"tickformat\": null, \"scale\": \"linear\", \"fontsize\": 10.0, \"grid\": {\"gridOn\": false}, \"visible\": true}], \"axesbg\": \"#FFFFFF\", \"axesbgalpha\": null, \"zoomable\": true, \"id\": \"el68140367230095808\", \"lines\": [], \"paths\": [], \"markers\": [], \"texts\": [{\"text\": \"test1\", \"position\": [1.0003, 1.0003], \"coordinates\": \"data\", \"h_anchor\": \"start\", \"v_baseline\": \"auto\", \"rotation\": -0.0, \"fontsize\": 9.0, \"color\": \"#000000\", \"alpha\": 1, \"zorder\": 3, \"id\": \"el68140367055196656\"}, {\"text\": \"test2\", \"position\": [-0.9997, -0.9997], \"coordinates\": \"data\", \"h_anchor\": \"start\", \"v_baseline\": \"auto\", \"rotation\": -0.0, \"fontsize\": 9.0, \"color\": \"#000000\", \"alpha\": 1, \"zorder\": 3, \"id\": \"el68140367055198144\"}, {\"text\": \"test3\", \"position\": [1.0003, -0.9997], \"coordinates\": \"data\", \"h_anchor\": \"start\", \"v_baseline\": \"auto\", \"rotation\": -0.0, \"fontsize\": 9.0, \"color\": \"#000000\", \"alpha\": 1, \"zorder\": 3, \"id\": \"el68140367055199632\"}, {\"text\": \"test4\", \"position\": [-0.9997, 1.0003], \"coordinates\": \"data\", \"h_anchor\": \"start\", \"v_baseline\": \"auto\", \"rotation\": -0.0, \"fontsize\": 9.0, \"color\": \"#000000\", \"alpha\": 1, \"zorder\": 3, \"id\": \"el68140367055198720\"}, {\"text\": \"test5\", \"position\": [0.0003, 0.0003], \"coordinates\": \"data\", \"h_anchor\": \"start\", \"v_baseline\": \"auto\", \"rotation\": -0.0, \"fontsize\": 9.0, \"color\": \"#000000\", \"alpha\": 1, \"zorder\": 3, \"id\": \"el68140367055235008\"}], \"collections\": [{\"offsets\": \"data01\", \"xindex\": 0, \"yindex\": 1, \"paths\": [[[[-0.5, -0.5], [0.5, 0.5], [-0.5, 0.5], [0.5, -0.5]], [\"M\", \"L\", \"M\", \"L\"]]], \"pathtransforms\": [[6.0, 0.0, 0.0, 6.0, 0.0, 0.0]], \"alphas\": [null], \"edgecolors\": [\"#FF0000\"], \"facecolors\": [\"#FF0000\"], \"edgewidths\": [1.5], \"offsetcoordinates\": \"data\", \"pathcoordinates\": \"display\", \"zorder\": 1, \"id\": \"el68140367055146624\"}, {\"offsets\": \"data02\", \"xindex\": 0, \"yindex\": 1, \"paths\": [[[[-0.5, -0.5], [0.5, 0.5], [-0.5, 0.5], [0.5, -0.5]], [\"M\", \"L\", \"M\", \"L\"]]], \"pathtransforms\": [[6.0, 0.0, 0.0, 6.0, 0.0, 0.0]], \"alphas\": [null], \"edgecolors\": [\"#FF0000\"], \"facecolors\": [\"#FF0000\"], \"edgewidths\": [1.5], \"offsetcoordinates\": \"data\", \"pathcoordinates\": \"display\", \"zorder\": 1, \"id\": \"el68140367055197328\"}, {\"offsets\": \"data01\", \"xindex\": 0, \"yindex\": 2, \"paths\": [[[[-0.5, -0.5], [0.5, 0.5], [-0.5, 0.5], [0.5, -0.5]], [\"M\", \"L\", \"M\", \"L\"]]], \"pathtransforms\": [[6.0, 0.0, 0.0, 6.0, 0.0, 0.0]], \"alphas\": [null], \"edgecolors\": [\"#FF0000\"], \"facecolors\": [\"#FF0000\"], \"edgewidths\": [1.5], \"offsetcoordinates\": \"data\", \"pathcoordinates\": \"display\", \"zorder\": 1, \"id\": \"el68140367055198816\"}, {\"offsets\": \"data01\", \"xindex\": 2, \"yindex\": 0, \"paths\": [[[[-0.5, -0.5], [0.5, 0.5], [-0.5, 0.5], [0.5, -0.5]], [\"M\", \"L\", \"M\", \"L\"]]], \"pathtransforms\": [[6.0, 0.0, 0.0, 6.0, 0.0, 0.0]], \"alphas\": [null], \"edgecolors\": [\"#FF0000\"], \"facecolors\": [\"#FF0000\"], \"edgewidths\": [1.5], \"offsetcoordinates\": \"data\", \"pathcoordinates\": \"display\", \"zorder\": 1, \"id\": \"el68140367055200064\"}, {\"offsets\": \"data03\", \"xindex\": 0, \"yindex\": 1, \"paths\": [[[[-0.5, -0.5], [0.5, 0.5], [-0.5, 0.5], [0.5, -0.5]], [\"M\", \"L\", \"M\", \"L\"]]], \"pathtransforms\": [[6.0, 0.0, 0.0, 6.0, 0.0, 0.0]], \"alphas\": [null], \"edgecolors\": [\"#FF0000\"], \"facecolors\": [\"#FF0000\"], \"edgewidths\": [1.5], \"offsetcoordinates\": \"data\", \"pathcoordinates\": \"display\", \"zorder\": 1, \"id\": \"el68140367055234192\"}], \"images\": [], \"sharex\": [], \"sharey\": []}], \"data\": {\"data01\": [[1.0, 1.0, -1.0]], \"data02\": [[-1.0, -1.0]], \"data03\": [[0.0, 0.0]]}, \"id\": \"el68140366903590528\", \"plugins\": [{\"type\": \"reset\"}, {\"type\": \"zoom\", \"button\": true, \"enabled\": false}, {\"type\": \"boxzoom\", \"button\": true, \"enabled\": false}]});\n",
              "      });\n",
              "    });\n",
              "}else{\n",
              "    // require.js not available: dynamically load d3 & mpld3\n",
              "    mpld3_load_lib(\"https://d3js.org/d3.v5.js\", function(){\n",
              "         mpld3_load_lib(\"https://mpld3.github.io/js/mpld3.v0.5.9.js\", function(){\n",
              "                 \n",
              "                 mpld3.draw_figure(\"fig_el681403669035905285825320607\", {\"width\": 432.0, \"height\": 288.0, \"axes\": [{\"bbox\": [0.125, 0.125, 0.775, 0.755], \"xlim\": [-1.1, 1.1], \"ylim\": [-1.1, 1.1], \"xdomain\": [-1.1, 1.1], \"ydomain\": [-1.1, 1.1], \"xscale\": \"linear\", \"yscale\": \"linear\", \"axes\": [{\"position\": \"bottom\", \"nticks\": 11, \"tickvalues\": null, \"tickformat_formatter\": \"\", \"tickformat\": null, \"scale\": \"linear\", \"fontsize\": 10.0, \"grid\": {\"gridOn\": false}, \"visible\": true}, {\"position\": \"left\", \"nticks\": 11, \"tickvalues\": null, \"tickformat_formatter\": \"\", \"tickformat\": null, \"scale\": \"linear\", \"fontsize\": 10.0, \"grid\": {\"gridOn\": false}, \"visible\": true}], \"axesbg\": \"#FFFFFF\", \"axesbgalpha\": null, \"zoomable\": true, \"id\": \"el68140367230095808\", \"lines\": [], \"paths\": [], \"markers\": [], \"texts\": [{\"text\": \"test1\", \"position\": [1.0003, 1.0003], \"coordinates\": \"data\", \"h_anchor\": \"start\", \"v_baseline\": \"auto\", \"rotation\": -0.0, \"fontsize\": 9.0, \"color\": \"#000000\", \"alpha\": 1, \"zorder\": 3, \"id\": \"el68140367055196656\"}, {\"text\": \"test2\", \"position\": [-0.9997, -0.9997], \"coordinates\": \"data\", \"h_anchor\": \"start\", \"v_baseline\": \"auto\", \"rotation\": -0.0, \"fontsize\": 9.0, \"color\": \"#000000\", \"alpha\": 1, \"zorder\": 3, \"id\": \"el68140367055198144\"}, {\"text\": \"test3\", \"position\": [1.0003, -0.9997], \"coordinates\": \"data\", \"h_anchor\": \"start\", \"v_baseline\": \"auto\", \"rotation\": -0.0, \"fontsize\": 9.0, \"color\": \"#000000\", \"alpha\": 1, \"zorder\": 3, \"id\": \"el68140367055199632\"}, {\"text\": \"test4\", \"position\": [-0.9997, 1.0003], \"coordinates\": \"data\", \"h_anchor\": \"start\", \"v_baseline\": \"auto\", \"rotation\": -0.0, \"fontsize\": 9.0, \"color\": \"#000000\", \"alpha\": 1, \"zorder\": 3, \"id\": \"el68140367055198720\"}, {\"text\": \"test5\", \"position\": [0.0003, 0.0003], \"coordinates\": \"data\", \"h_anchor\": \"start\", \"v_baseline\": \"auto\", \"rotation\": -0.0, \"fontsize\": 9.0, \"color\": \"#000000\", \"alpha\": 1, \"zorder\": 3, \"id\": \"el68140367055235008\"}], \"collections\": [{\"offsets\": \"data01\", \"xindex\": 0, \"yindex\": 1, \"paths\": [[[[-0.5, -0.5], [0.5, 0.5], [-0.5, 0.5], [0.5, -0.5]], [\"M\", \"L\", \"M\", \"L\"]]], \"pathtransforms\": [[6.0, 0.0, 0.0, 6.0, 0.0, 0.0]], \"alphas\": [null], \"edgecolors\": [\"#FF0000\"], \"facecolors\": [\"#FF0000\"], \"edgewidths\": [1.5], \"offsetcoordinates\": \"data\", \"pathcoordinates\": \"display\", \"zorder\": 1, \"id\": \"el68140367055146624\"}, {\"offsets\": \"data02\", \"xindex\": 0, \"yindex\": 1, \"paths\": [[[[-0.5, -0.5], [0.5, 0.5], [-0.5, 0.5], [0.5, -0.5]], [\"M\", \"L\", \"M\", \"L\"]]], \"pathtransforms\": [[6.0, 0.0, 0.0, 6.0, 0.0, 0.0]], \"alphas\": [null], \"edgecolors\": [\"#FF0000\"], \"facecolors\": [\"#FF0000\"], \"edgewidths\": [1.5], \"offsetcoordinates\": \"data\", \"pathcoordinates\": \"display\", \"zorder\": 1, \"id\": \"el68140367055197328\"}, {\"offsets\": \"data01\", \"xindex\": 0, \"yindex\": 2, \"paths\": [[[[-0.5, -0.5], [0.5, 0.5], [-0.5, 0.5], [0.5, -0.5]], [\"M\", \"L\", \"M\", \"L\"]]], \"pathtransforms\": [[6.0, 0.0, 0.0, 6.0, 0.0, 0.0]], \"alphas\": [null], \"edgecolors\": [\"#FF0000\"], \"facecolors\": [\"#FF0000\"], \"edgewidths\": [1.5], \"offsetcoordinates\": \"data\", \"pathcoordinates\": \"display\", \"zorder\": 1, \"id\": \"el68140367055198816\"}, {\"offsets\": \"data01\", \"xindex\": 2, \"yindex\": 0, \"paths\": [[[[-0.5, -0.5], [0.5, 0.5], [-0.5, 0.5], [0.5, -0.5]], [\"M\", \"L\", \"M\", \"L\"]]], \"pathtransforms\": [[6.0, 0.0, 0.0, 6.0, 0.0, 0.0]], \"alphas\": [null], \"edgecolors\": [\"#FF0000\"], \"facecolors\": [\"#FF0000\"], \"edgewidths\": [1.5], \"offsetcoordinates\": \"data\", \"pathcoordinates\": \"display\", \"zorder\": 1, \"id\": \"el68140367055200064\"}, {\"offsets\": \"data03\", \"xindex\": 0, \"yindex\": 1, \"paths\": [[[[-0.5, -0.5], [0.5, 0.5], [-0.5, 0.5], [0.5, -0.5]], [\"M\", \"L\", \"M\", \"L\"]]], \"pathtransforms\": [[6.0, 0.0, 0.0, 6.0, 0.0, 0.0]], \"alphas\": [null], \"edgecolors\": [\"#FF0000\"], \"facecolors\": [\"#FF0000\"], \"edgewidths\": [1.5], \"offsetcoordinates\": \"data\", \"pathcoordinates\": \"display\", \"zorder\": 1, \"id\": \"el68140367055234192\"}], \"images\": [], \"sharex\": [], \"sharey\": []}], \"data\": {\"data01\": [[1.0, 1.0, -1.0]], \"data02\": [[-1.0, -1.0]], \"data03\": [[0.0, 0.0]]}, \"id\": \"el68140366903590528\", \"plugins\": [{\"type\": \"reset\"}, {\"type\": \"zoom\", \"button\": true, \"enabled\": false}, {\"type\": \"boxzoom\", \"button\": true, \"enabled\": false}]});\n",
              "            })\n",
              "         });\n",
              "}\n",
              "</script>"
            ],
            "image/png": "[encoded data removed]"
          },
          "metadata": {
            "needs_background": "light"
          }
        },
        {
          "output_type": "stream",
          "name": "stdout",
          "text": [
            "--------------------------------------------------------------------------------\n"
          ]
        }
      ]
    },
    {
      "cell_type": "markdown",
      "source": [
        "Now let's visualize our projected word vectors with the visualization function that we just wrote. "
      ],
      "metadata": {
        "id": "mcPk8V7TNYxr"
      }
    },
    {
      "cell_type": "code",
      "source": [
        "word2Ind = { w: idx for idx, w in enumerate(words) }\n",
        "plot_embeddings(projected_word_embeddings, word2Ind, words)"
      ],
      "metadata": {
        "colab": {
          "base_uri": "https://localhost:8080/",
          "height": 327
        },
        "id": "tYwftNZOBif2",
        "outputId": "11318af1-b81f-46ac-f89b-0556255dbd30"
      },
      "execution_count": null,
      "outputs": [
        {
          "output_type": "stream",
          "name": "stdout",
          "text": [
            "[0, 1, 2, 3, 4, 5, 6, 7, 8, 9, 10, 11, 12, 13, 14, 15, 16, 17, 18]\n"
          ]
        },
        {
          "output_type": "display_data",
          "data": {
            "text/plain": [
              "<Figure size 432x288 with 1 Axes>"
            ],
            "text/html": [
              "\n",
              "\n",
              "<style>\n",
              "\n",
              "</style>\n",
              "\n",
              "<div id=\"fig_el68140367125477744898619423\"></div>\n",
              "<script>\n",
              "function mpld3_load_lib(url, callback){\n",
              "  var s = document.createElement('script');\n",
              "  s.src = url;\n",
              "  s.async = true;\n",
              "  s.onreadystatechange = s.onload = callback;\n",
              "  s.onerror = function(){console.warn(\"failed to load library \" + url);};\n",
              "  document.getElementsByTagName(\"head\")[0].appendChild(s);\n",
              "}\n",
              "\n",
              "if(typeof(mpld3) !== \"undefined\" && mpld3._mpld3IsLoaded){\n",
              "   // already loaded: just create the figure\n",
              "   !function(mpld3){\n",
              "       \n",
              "       mpld3.draw_figure(\"fig_el68140367125477744898619423\", {\"width\": 432.0, \"height\": 288.0, \"axes\": [{\"bbox\": [0.125, 0.125, 0.775, 0.755], \"xlim\": [-3.569000998835676, 3.3412968173794337], \"ylim\": [-11.216454990903584, 1.7583874808187643], \"xdomain\": [-3.569000998835676, 3.3412968173794337], \"ydomain\": [-11.216454990903584, 1.7583874808187643], \"xscale\": \"linear\", \"yscale\": \"linear\", \"axes\": [{\"position\": \"bottom\", \"nticks\": 9, \"tickvalues\": null, \"tickformat_formatter\": \"\", \"tickformat\": null, \"scale\": \"linear\", \"fontsize\": 10.0, \"grid\": {\"gridOn\": false}, \"visible\": true}, {\"position\": \"left\", \"nticks\": 8, \"tickvalues\": null, \"tickformat_formatter\": \"\", \"tickformat\": null, \"scale\": \"linear\", \"fontsize\": 10.0, \"grid\": {\"gridOn\": false}, \"visible\": true}], \"axesbg\": \"#FFFFFF\", \"axesbgalpha\": null, \"zoomable\": true, \"id\": \"el68140367126202304\", \"lines\": [], \"paths\": [], \"markers\": [], \"texts\": [{\"text\": \"cat\", \"position\": [0.8241451915882133, 0.5004182127776855], \"coordinates\": \"data\", \"h_anchor\": \"start\", \"v_baseline\": \"auto\", \"rotation\": -0.0, \"fontsize\": 9.0, \"color\": \"#000000\", \"alpha\": 1, \"zorder\": 3, \"id\": \"el68140367126736032\"}, {\"text\": \"grain\", \"position\": [-0.27338634056949984, -2.918244141521898], \"coordinates\": \"data\", \"h_anchor\": \"start\", \"v_baseline\": \"auto\", \"rotation\": -0.0, \"fontsize\": 9.0, \"color\": \"#000000\", \"alpha\": 1, \"zorder\": 3, \"id\": \"el68140367126733392\"}, {\"text\": \"wheat\", \"position\": [-2.775375408489781, -3.6546254326232837], \"coordinates\": \"data\", \"h_anchor\": \"start\", \"v_baseline\": \"auto\", \"rotation\": -0.0, \"fontsize\": 9.0, \"color\": \"#000000\", \"alpha\": 1, \"zorder\": 3, \"id\": \"el68140367126735504\"}, {\"text\": \"cow\", \"position\": [2.9166973729993724, 0.03200167341042429], \"coordinates\": \"data\", \"h_anchor\": \"start\", \"v_baseline\": \"auto\", \"rotation\": -0.0, \"fontsize\": 9.0, \"color\": \"#000000\", \"alpha\": 1, \"zorder\": 3, \"id\": \"el68140367126619232\"}, {\"text\": \"cheetah\", \"position\": [0.5883203922790315, -1.3231026124919192], \"coordinates\": \"data\", \"h_anchor\": \"start\", \"v_baseline\": \"auto\", \"rotation\": -0.0, \"fontsize\": 9.0, \"color\": \"#000000\", \"alpha\": 1, \"zorder\": 3, \"id\": \"el68140367126619568\"}, {\"text\": \"crow\", \"position\": [0.9152295446099459, -2.194359636653968], \"coordinates\": \"data\", \"h_anchor\": \"start\", \"v_baseline\": \"auto\", \"rotation\": -0.0, \"fontsize\": 9.0, \"color\": \"#000000\", \"alpha\": 1, \"zorder\": 3, \"id\": \"el68140367126618272\"}, {\"text\": \"corn\", \"position\": [-1.1717126370366049, -5.728006333951098], \"coordinates\": \"data\", \"h_anchor\": \"start\", \"v_baseline\": \"auto\", \"rotation\": -0.0, \"fontsize\": 9.0, \"color\": \"#000000\", \"alpha\": 1, \"zorder\": 3, \"id\": \"el68140367127352032\"}, {\"text\": \"maize\", \"position\": [-3.040999071489076, -1.8167454086599044], \"coordinates\": \"data\", \"h_anchor\": \"start\", \"v_baseline\": \"auto\", \"rotation\": -0.0, \"fontsize\": 9.0, \"color\": \"#000000\", \"alpha\": 1, \"zorder\": 3, \"id\": \"el68140367127353952\"}, {\"text\": \"dog\", \"position\": [2.87805848986425, 1.168921913922294], \"coordinates\": \"data\", \"h_anchor\": \"start\", \"v_baseline\": \"auto\", \"rotation\": -0.0, \"fontsize\": 9.0, \"color\": \"#000000\", \"alpha\": 1, \"zorder\": 3, \"id\": \"el68140367127353520\"}, {\"text\": \"camel\", \"position\": [1.0445779716368226, -0.12083779800801839], \"coordinates\": \"data\", \"h_anchor\": \"start\", \"v_baseline\": \"auto\", \"rotation\": -0.0, \"fontsize\": 9.0, \"color\": \"#000000\", \"alpha\": 1, \"zorder\": 3, \"id\": \"el68140367127301760\"}, {\"text\": \"rice\", \"position\": [-3.2545965526440797, -4.733935866062864], \"coordinates\": \"data\", \"h_anchor\": \"start\", \"v_baseline\": \"auto\", \"rotation\": -0.0, \"fontsize\": 9.0, \"color\": \"#000000\", \"alpha\": 1, \"zorder\": 3, \"id\": \"el68140367127299840\"}, {\"text\": \"barley\", \"position\": [-0.05145777553860716, -2.999864022884906], \"coordinates\": \"data\", \"h_anchor\": \"start\", \"v_baseline\": \"auto\", \"rotation\": -0.0, \"fontsize\": 9.0, \"color\": \"#000000\", \"alpha\": 1, \"zorder\": 3, \"id\": \"el68140367126662544\"}, {\"text\": \"grains\", \"position\": [-1.2133608119731822, -3.888888615068846], \"coordinates\": \"data\", \"h_anchor\": \"start\", \"v_baseline\": \"auto\", \"rotation\": -0.0, \"fontsize\": 9.0, \"color\": \"#000000\", \"alpha\": 1, \"zorder\": 3, \"id\": \"el68140367126661776\"}, {\"text\": \"tiger\", \"position\": [0.7794394124415885, -1.0956093680044703], \"coordinates\": \"data\", \"h_anchor\": \"start\", \"v_baseline\": \"auto\", \"rotation\": -0.0, \"fontsize\": 9.0, \"color\": \"#000000\", \"alpha\": 1, \"zorder\": 3, \"id\": \"el68140367126659808\"}, {\"text\": \"elephant\", \"position\": [-1.6157130396968036, -0.06790555696198528], \"coordinates\": \"data\", \"h_anchor\": \"start\", \"v_baseline\": \"auto\", \"rotation\": -0.0, \"fontsize\": 9.0, \"color\": \"#000000\", \"alpha\": 1, \"zorder\": 3, \"id\": \"el68140367127219504\"}, {\"text\": \"lion\", \"position\": [0.6954072691378327, -0.7140039446431183], \"coordinates\": \"data\", \"h_anchor\": \"start\", \"v_baseline\": \"auto\", \"rotation\": -0.0, \"fontsize\": 9.0, \"color\": \"#000000\", \"alpha\": 1, \"zorder\": 3, \"id\": \"el68140367127217728\"}, {\"text\": \"turtle\", \"position\": [1.6606303482037348, -2.1909948051832724], \"coordinates\": \"data\", \"h_anchor\": \"start\", \"v_baseline\": \"auto\", \"rotation\": -0.0, \"fontsize\": 9.0, \"color\": \"#000000\", \"alpha\": 1, \"zorder\": 3, \"id\": \"el68140367127217440\"}, {\"text\": \"rabbit\", \"position\": [3.027492371187838, -3.0303247773259914], \"coordinates\": \"data\", \"h_anchor\": \"start\", \"v_baseline\": \"auto\", \"rotation\": -0.0, \"fontsize\": 9.0, \"color\": \"#000000\", \"alpha\": 1, \"zorder\": 3, \"id\": \"el68140367127329952\"}, {\"text\": \"quinoa\", \"position\": [-2.6167949163414734, -10.626389424007114], \"coordinates\": \"data\", \"h_anchor\": \"start\", \"v_baseline\": \"auto\", \"rotation\": -0.0, \"fontsize\": 9.0, \"color\": \"#000000\", \"alpha\": 1, \"zorder\": 3, \"id\": \"el68140367127328176\"}], \"collections\": [{\"offsets\": \"data01\", \"xindex\": 0, \"yindex\": 1, \"paths\": [[[[-0.5, -0.5], [0.5, 0.5], [-0.5, 0.5], [0.5, -0.5]], [\"M\", \"L\", \"M\", \"L\"]]], \"pathtransforms\": [[6.0, 0.0, 0.0, 6.0, 0.0, 0.0]], \"alphas\": [null], \"edgecolors\": [\"#FF0000\"], \"facecolors\": [\"#FF0000\"], \"edgewidths\": [1.5], \"offsetcoordinates\": \"data\", \"pathcoordinates\": \"display\", \"zorder\": 1, \"id\": \"el68140367126297664\"}, {\"offsets\": \"data02\", \"xindex\": 0, \"yindex\": 1, \"paths\": [[[[-0.5, -0.5], [0.5, 0.5], [-0.5, 0.5], [0.5, -0.5]], [\"M\", \"L\", \"M\", \"L\"]]], \"pathtransforms\": [[6.0, 0.0, 0.0, 6.0, 0.0, 0.0]], \"alphas\": [null], \"edgecolors\": [\"#FF0000\"], \"facecolors\": [\"#FF0000\"], \"edgewidths\": [1.5], \"offsetcoordinates\": \"data\", \"pathcoordinates\": \"display\", \"zorder\": 1, \"id\": \"el68140367126735168\"}, {\"offsets\": \"data03\", \"xindex\": 0, \"yindex\": 1, \"paths\": [[[[-0.5, -0.5], [0.5, 0.5], [-0.5, 0.5], [0.5, -0.5]], [\"M\", \"L\", \"M\", \"L\"]]], \"pathtransforms\": [[6.0, 0.0, 0.0, 6.0, 0.0, 0.0]], \"alphas\": [null], \"edgecolors\": [\"#FF0000\"], \"facecolors\": [\"#FF0000\"], \"edgewidths\": [1.5], \"offsetcoordinates\": \"data\", \"pathcoordinates\": \"display\", \"zorder\": 1, \"id\": \"el68140367126734112\"}, {\"offsets\": \"data04\", \"xindex\": 0, \"yindex\": 1, \"paths\": [[[[-0.5, -0.5], [0.5, 0.5], [-0.5, 0.5], [0.5, -0.5]], [\"M\", \"L\", \"M\", \"L\"]]], \"pathtransforms\": [[6.0, 0.0, 0.0, 6.0, 0.0, 0.0]], \"alphas\": [null], \"edgecolors\": [\"#FF0000\"], \"facecolors\": [\"#FF0000\"], \"edgewidths\": [1.5], \"offsetcoordinates\": \"data\", \"pathcoordinates\": \"display\", \"zorder\": 1, \"id\": \"el68140367126618176\"}, {\"offsets\": \"data05\", \"xindex\": 0, \"yindex\": 1, \"paths\": [[[[-0.5, -0.5], [0.5, 0.5], [-0.5, 0.5], [0.5, -0.5]], [\"M\", \"L\", \"M\", \"L\"]]], \"pathtransforms\": [[6.0, 0.0, 0.0, 6.0, 0.0, 0.0]], \"alphas\": [null], \"edgecolors\": [\"#FF0000\"], \"facecolors\": [\"#FF0000\"], \"edgewidths\": [1.5], \"offsetcoordinates\": \"data\", \"pathcoordinates\": \"display\", \"zorder\": 1, \"id\": \"el68140367126621200\"}, {\"offsets\": \"data06\", \"xindex\": 0, \"yindex\": 1, \"paths\": [[[[-0.5, -0.5], [0.5, 0.5], [-0.5, 0.5], [0.5, -0.5]], [\"M\", \"L\", \"M\", \"L\"]]], \"pathtransforms\": [[6.0, 0.0, 0.0, 6.0, 0.0, 0.0]], \"alphas\": [null], \"edgecolors\": [\"#FF0000\"], \"facecolors\": [\"#FF0000\"], \"edgewidths\": [1.5], \"offsetcoordinates\": \"data\", \"pathcoordinates\": \"display\", \"zorder\": 1, \"id\": \"el68140367126620576\"}, {\"offsets\": \"data07\", \"xindex\": 0, \"yindex\": 1, \"paths\": [[[[-0.5, -0.5], [0.5, 0.5], [-0.5, 0.5], [0.5, -0.5]], [\"M\", \"L\", \"M\", \"L\"]]], \"pathtransforms\": [[6.0, 0.0, 0.0, 6.0, 0.0, 0.0]], \"alphas\": [null], \"edgecolors\": [\"#FF0000\"], \"facecolors\": [\"#FF0000\"], \"edgewidths\": [1.5], \"offsetcoordinates\": \"data\", \"pathcoordinates\": \"display\", \"zorder\": 1, \"id\": \"el68140367127352992\"}, {\"offsets\": \"data08\", \"xindex\": 0, \"yindex\": 1, \"paths\": [[[[-0.5, -0.5], [0.5, 0.5], [-0.5, 0.5], [0.5, -0.5]], [\"M\", \"L\", \"M\", \"L\"]]], \"pathtransforms\": [[6.0, 0.0, 0.0, 6.0, 0.0, 0.0]], \"alphas\": [null], \"edgecolors\": [\"#FF0000\"], \"facecolors\": [\"#FF0000\"], \"edgewidths\": [1.5], \"offsetcoordinates\": \"data\", \"pathcoordinates\": \"display\", \"zorder\": 1, \"id\": \"el68140367127352224\"}, {\"offsets\": \"data09\", \"xindex\": 0, \"yindex\": 1, \"paths\": [[[[-0.5, -0.5], [0.5, 0.5], [-0.5, 0.5], [0.5, -0.5]], [\"M\", \"L\", \"M\", \"L\"]]], \"pathtransforms\": [[6.0, 0.0, 0.0, 6.0, 0.0, 0.0]], \"alphas\": [null], \"edgecolors\": [\"#FF0000\"], \"facecolors\": [\"#FF0000\"], \"edgewidths\": [1.5], \"offsetcoordinates\": \"data\", \"pathcoordinates\": \"display\", \"zorder\": 1, \"id\": \"el68140367127352080\"}, {\"offsets\": \"data10\", \"xindex\": 0, \"yindex\": 1, \"paths\": [[[[-0.5, -0.5], [0.5, 0.5], [-0.5, 0.5], [0.5, -0.5]], [\"M\", \"L\", \"M\", \"L\"]]], \"pathtransforms\": [[6.0, 0.0, 0.0, 6.0, 0.0, 0.0]], \"alphas\": [null], \"edgecolors\": [\"#FF0000\"], \"facecolors\": [\"#FF0000\"], \"edgewidths\": [1.5], \"offsetcoordinates\": \"data\", \"pathcoordinates\": \"display\", \"zorder\": 1, \"id\": \"el68140367127298784\"}, {\"offsets\": \"data11\", \"xindex\": 0, \"yindex\": 1, \"paths\": [[[[-0.5, -0.5], [0.5, 0.5], [-0.5, 0.5], [0.5, -0.5]], [\"M\", \"L\", \"M\", \"L\"]]], \"pathtransforms\": [[6.0, 0.0, 0.0, 6.0, 0.0, 0.0]], \"alphas\": [null], \"edgecolors\": [\"#FF0000\"], \"facecolors\": [\"#FF0000\"], \"edgewidths\": [1.5], \"offsetcoordinates\": \"data\", \"pathcoordinates\": \"display\", \"zorder\": 1, \"id\": \"el68140367127300416\"}, {\"offsets\": \"data12\", \"xindex\": 0, \"yindex\": 1, \"paths\": [[[[-0.5, -0.5], [0.5, 0.5], [-0.5, 0.5], [0.5, -0.5]], [\"M\", \"L\", \"M\", \"L\"]]], \"pathtransforms\": [[6.0, 0.0, 0.0, 6.0, 0.0, 0.0]], \"alphas\": [null], \"edgecolors\": [\"#FF0000\"], \"facecolors\": [\"#FF0000\"], \"edgewidths\": [1.5], \"offsetcoordinates\": \"data\", \"pathcoordinates\": \"display\", \"zorder\": 1, \"id\": \"el68140367127299264\"}, {\"offsets\": \"data13\", \"xindex\": 0, \"yindex\": 1, \"paths\": [[[[-0.5, -0.5], [0.5, 0.5], [-0.5, 0.5], [0.5, -0.5]], [\"M\", \"L\", \"M\", \"L\"]]], \"pathtransforms\": [[6.0, 0.0, 0.0, 6.0, 0.0, 0.0]], \"alphas\": [null], \"edgecolors\": [\"#FF0000\"], \"facecolors\": [\"#FF0000\"], \"edgewidths\": [1.5], \"offsetcoordinates\": \"data\", \"pathcoordinates\": \"display\", \"zorder\": 1, \"id\": \"el68140367126661440\"}, {\"offsets\": \"data14\", \"xindex\": 0, \"yindex\": 1, \"paths\": [[[[-0.5, -0.5], [0.5, 0.5], [-0.5, 0.5], [0.5, -0.5]], [\"M\", \"L\", \"M\", \"L\"]]], \"pathtransforms\": [[6.0, 0.0, 0.0, 6.0, 0.0, 0.0]], \"alphas\": [null], \"edgecolors\": [\"#FF0000\"], \"facecolors\": [\"#FF0000\"], \"edgewidths\": [1.5], \"offsetcoordinates\": \"data\", \"pathcoordinates\": \"display\", \"zorder\": 1, \"id\": \"el68140367126661584\"}, {\"offsets\": \"data15\", \"xindex\": 0, \"yindex\": 1, \"paths\": [[[[-0.5, -0.5], [0.5, 0.5], [-0.5, 0.5], [0.5, -0.5]], [\"M\", \"L\", \"M\", \"L\"]]], \"pathtransforms\": [[6.0, 0.0, 0.0, 6.0, 0.0, 0.0]], \"alphas\": [null], \"edgecolors\": [\"#FF0000\"], \"facecolors\": [\"#FF0000\"], \"edgewidths\": [1.5], \"offsetcoordinates\": \"data\", \"pathcoordinates\": \"display\", \"zorder\": 1, \"id\": \"el68140367127301424\"}, {\"offsets\": \"data16\", \"xindex\": 0, \"yindex\": 1, \"paths\": [[[[-0.5, -0.5], [0.5, 0.5], [-0.5, 0.5], [0.5, -0.5]], [\"M\", \"L\", \"M\", \"L\"]]], \"pathtransforms\": [[6.0, 0.0, 0.0, 6.0, 0.0, 0.0]], \"alphas\": [null], \"edgecolors\": [\"#FF0000\"], \"facecolors\": [\"#FF0000\"], \"edgewidths\": [1.5], \"offsetcoordinates\": \"data\", \"pathcoordinates\": \"display\", \"zorder\": 1, \"id\": \"el68140367127216768\"}, {\"offsets\": \"data17\", \"xindex\": 0, \"yindex\": 1, \"paths\": [[[[-0.5, -0.5], [0.5, 0.5], [-0.5, 0.5], [0.5, -0.5]], [\"M\", \"L\", \"M\", \"L\"]]], \"pathtransforms\": [[6.0, 0.0, 0.0, 6.0, 0.0, 0.0]], \"alphas\": [null], \"edgecolors\": [\"#FF0000\"], \"facecolors\": [\"#FF0000\"], \"edgewidths\": [1.5], \"offsetcoordinates\": \"data\", \"pathcoordinates\": \"display\", \"zorder\": 1, \"id\": \"el68140367127220176\"}, {\"offsets\": \"data18\", \"xindex\": 0, \"yindex\": 1, \"paths\": [[[[-0.5, -0.5], [0.5, 0.5], [-0.5, 0.5], [0.5, -0.5]], [\"M\", \"L\", \"M\", \"L\"]]], \"pathtransforms\": [[6.0, 0.0, 0.0, 6.0, 0.0, 0.0]], \"alphas\": [null], \"edgecolors\": [\"#FF0000\"], \"facecolors\": [\"#FF0000\"], \"edgewidths\": [1.5], \"offsetcoordinates\": \"data\", \"pathcoordinates\": \"display\", \"zorder\": 1, \"id\": \"el68140367127218736\"}, {\"offsets\": \"data19\", \"xindex\": 0, \"yindex\": 1, \"paths\": [[[[-0.5, -0.5], [0.5, 0.5], [-0.5, 0.5], [0.5, -0.5]], [\"M\", \"L\", \"M\", \"L\"]]], \"pathtransforms\": [[6.0, 0.0, 0.0, 6.0, 0.0, 0.0]], \"alphas\": [null], \"edgecolors\": [\"#FF0000\"], \"facecolors\": [\"#FF0000\"], \"edgewidths\": [1.5], \"offsetcoordinates\": \"data\", \"pathcoordinates\": \"display\", \"zorder\": 1, \"id\": \"el68140367127328992\"}], \"images\": [], \"sharex\": [], \"sharey\": []}], \"data\": {\"data01\": [[0.8238451915882133, 0.5001182127776855]], \"data02\": [[-0.27368634056949986, -2.918544141521898]], \"data03\": [[-2.7756754084897812, -3.654925432623284]], \"data04\": [[2.916397372999372, 0.03170167341042429]], \"data05\": [[0.5880203922790316, -1.3234026124919192]], \"data06\": [[0.9149295446099459, -2.1946596366539683]], \"data07\": [[-1.1720126370366049, -5.728306333951098]], \"data08\": [[-3.0412990714890764, -1.8170454086599044]], \"data09\": [[2.8777584898642496, 1.168621913922294]], \"data10\": [[1.0442779716368227, -0.12113779800801838]], \"data11\": [[-3.25489655264408, -4.734235866062864]], \"data12\": [[-0.051757775538607165, -3.0001640228849062]], \"data13\": [[-1.2136608119731822, -3.8891886150688464]], \"data14\": [[0.7791394124415886, -1.0959093680044703]], \"data15\": [[-1.6160130396968035, -0.06820555696198527]], \"data16\": [[0.6951072691378327, -0.7143039446431183]], \"data17\": [[1.6603303482037348, -2.1912948051832726]], \"data18\": [[3.0271923711878377, -3.0306247773259916]], \"data19\": [[-2.6170949163414736, -10.626689424007113]]}, \"id\": \"el68140367125477744\", \"plugins\": [{\"type\": \"reset\"}, {\"type\": \"zoom\", \"button\": true, \"enabled\": false}, {\"type\": \"boxzoom\", \"button\": true, \"enabled\": false}]});\n",
              "   }(mpld3);\n",
              "}else if(typeof define === \"function\" && define.amd){\n",
              "   // require.js is available: use it to load d3/mpld3\n",
              "   require.config({paths: {d3: \"https://d3js.org/d3.v5\"}});\n",
              "   require([\"d3\"], function(d3){\n",
              "      window.d3 = d3;\n",
              "      mpld3_load_lib(\"https://mpld3.github.io/js/mpld3.v0.5.9.js\", function(){\n",
              "         \n",
              "         mpld3.draw_figure(\"fig_el68140367125477744898619423\", {\"width\": 432.0, \"height\": 288.0, \"axes\": [{\"bbox\": [0.125, 0.125, 0.775, 0.755], \"xlim\": [-3.569000998835676, 3.3412968173794337], \"ylim\": [-11.216454990903584, 1.7583874808187643], \"xdomain\": [-3.569000998835676, 3.3412968173794337], \"ydomain\": [-11.216454990903584, 1.7583874808187643], \"xscale\": \"linear\", \"yscale\": \"linear\", \"axes\": [{\"position\": \"bottom\", \"nticks\": 9, \"tickvalues\": null, \"tickformat_formatter\": \"\", \"tickformat\": null, \"scale\": \"linear\", \"fontsize\": 10.0, \"grid\": {\"gridOn\": false}, \"visible\": true}, {\"position\": \"left\", \"nticks\": 8, \"tickvalues\": null, \"tickformat_formatter\": \"\", \"tickformat\": null, \"scale\": \"linear\", \"fontsize\": 10.0, \"grid\": {\"gridOn\": false}, \"visible\": true}], \"axesbg\": \"#FFFFFF\", \"axesbgalpha\": null, \"zoomable\": true, \"id\": \"el68140367126202304\", \"lines\": [], \"paths\": [], \"markers\": [], \"texts\": [{\"text\": \"cat\", \"position\": [0.8241451915882133, 0.5004182127776855], \"coordinates\": \"data\", \"h_anchor\": \"start\", \"v_baseline\": \"auto\", \"rotation\": -0.0, \"fontsize\": 9.0, \"color\": \"#000000\", \"alpha\": 1, \"zorder\": 3, \"id\": \"el68140367126736032\"}, {\"text\": \"grain\", \"position\": [-0.27338634056949984, -2.918244141521898], \"coordinates\": \"data\", \"h_anchor\": \"start\", \"v_baseline\": \"auto\", \"rotation\": -0.0, \"fontsize\": 9.0, \"color\": \"#000000\", \"alpha\": 1, \"zorder\": 3, \"id\": \"el68140367126733392\"}, {\"text\": \"wheat\", \"position\": [-2.775375408489781, -3.6546254326232837], \"coordinates\": \"data\", \"h_anchor\": \"start\", \"v_baseline\": \"auto\", \"rotation\": -0.0, \"fontsize\": 9.0, \"color\": \"#000000\", \"alpha\": 1, \"zorder\": 3, \"id\": \"el68140367126735504\"}, {\"text\": \"cow\", \"position\": [2.9166973729993724, 0.03200167341042429], \"coordinates\": \"data\", \"h_anchor\": \"start\", \"v_baseline\": \"auto\", \"rotation\": -0.0, \"fontsize\": 9.0, \"color\": \"#000000\", \"alpha\": 1, \"zorder\": 3, \"id\": \"el68140367126619232\"}, {\"text\": \"cheetah\", \"position\": [0.5883203922790315, -1.3231026124919192], \"coordinates\": \"data\", \"h_anchor\": \"start\", \"v_baseline\": \"auto\", \"rotation\": -0.0, \"fontsize\": 9.0, \"color\": \"#000000\", \"alpha\": 1, \"zorder\": 3, \"id\": \"el68140367126619568\"}, {\"text\": \"crow\", \"position\": [0.9152295446099459, -2.194359636653968], \"coordinates\": \"data\", \"h_anchor\": \"start\", \"v_baseline\": \"auto\", \"rotation\": -0.0, \"fontsize\": 9.0, \"color\": \"#000000\", \"alpha\": 1, \"zorder\": 3, \"id\": \"el68140367126618272\"}, {\"text\": \"corn\", \"position\": [-1.1717126370366049, -5.728006333951098], \"coordinates\": \"data\", \"h_anchor\": \"start\", \"v_baseline\": \"auto\", \"rotation\": -0.0, \"fontsize\": 9.0, \"color\": \"#000000\", \"alpha\": 1, \"zorder\": 3, \"id\": \"el68140367127352032\"}, {\"text\": \"maize\", \"position\": [-3.040999071489076, -1.8167454086599044], \"coordinates\": \"data\", \"h_anchor\": \"start\", \"v_baseline\": \"auto\", \"rotation\": -0.0, \"fontsize\": 9.0, \"color\": \"#000000\", \"alpha\": 1, \"zorder\": 3, \"id\": \"el68140367127353952\"}, {\"text\": \"dog\", \"position\": [2.87805848986425, 1.168921913922294], \"coordinates\": \"data\", \"h_anchor\": \"start\", \"v_baseline\": \"auto\", \"rotation\": -0.0, \"fontsize\": 9.0, \"color\": \"#000000\", \"alpha\": 1, \"zorder\": 3, \"id\": \"el68140367127353520\"}, {\"text\": \"camel\", \"position\": [1.0445779716368226, -0.12083779800801839], \"coordinates\": \"data\", \"h_anchor\": \"start\", \"v_baseline\": \"auto\", \"rotation\": -0.0, \"fontsize\": 9.0, \"color\": \"#000000\", \"alpha\": 1, \"zorder\": 3, \"id\": \"el68140367127301760\"}, {\"text\": \"rice\", \"position\": [-3.2545965526440797, -4.733935866062864], \"coordinates\": \"data\", \"h_anchor\": \"start\", \"v_baseline\": \"auto\", \"rotation\": -0.0, \"fontsize\": 9.0, \"color\": \"#000000\", \"alpha\": 1, \"zorder\": 3, \"id\": \"el68140367127299840\"}, {\"text\": \"barley\", \"position\": [-0.05145777553860716, -2.999864022884906], \"coordinates\": \"data\", \"h_anchor\": \"start\", \"v_baseline\": \"auto\", \"rotation\": -0.0, \"fontsize\": 9.0, \"color\": \"#000000\", \"alpha\": 1, \"zorder\": 3, \"id\": \"el68140367126662544\"}, {\"text\": \"grains\", \"position\": [-1.2133608119731822, -3.888888615068846], \"coordinates\": \"data\", \"h_anchor\": \"start\", \"v_baseline\": \"auto\", \"rotation\": -0.0, \"fontsize\": 9.0, \"color\": \"#000000\", \"alpha\": 1, \"zorder\": 3, \"id\": \"el68140367126661776\"}, {\"text\": \"tiger\", \"position\": [0.7794394124415885, -1.0956093680044703], \"coordinates\": \"data\", \"h_anchor\": \"start\", \"v_baseline\": \"auto\", \"rotation\": -0.0, \"fontsize\": 9.0, \"color\": \"#000000\", \"alpha\": 1, \"zorder\": 3, \"id\": \"el68140367126659808\"}, {\"text\": \"elephant\", \"position\": [-1.6157130396968036, -0.06790555696198528], \"coordinates\": \"data\", \"h_anchor\": \"start\", \"v_baseline\": \"auto\", \"rotation\": -0.0, \"fontsize\": 9.0, \"color\": \"#000000\", \"alpha\": 1, \"zorder\": 3, \"id\": \"el68140367127219504\"}, {\"text\": \"lion\", \"position\": [0.6954072691378327, -0.7140039446431183], \"coordinates\": \"data\", \"h_anchor\": \"start\", \"v_baseline\": \"auto\", \"rotation\": -0.0, \"fontsize\": 9.0, \"color\": \"#000000\", \"alpha\": 1, \"zorder\": 3, \"id\": \"el68140367127217728\"}, {\"text\": \"turtle\", \"position\": [1.6606303482037348, -2.1909948051832724], \"coordinates\": \"data\", \"h_anchor\": \"start\", \"v_baseline\": \"auto\", \"rotation\": -0.0, \"fontsize\": 9.0, \"color\": \"#000000\", \"alpha\": 1, \"zorder\": 3, \"id\": \"el68140367127217440\"}, {\"text\": \"rabbit\", \"position\": [3.027492371187838, -3.0303247773259914], \"coordinates\": \"data\", \"h_anchor\": \"start\", \"v_baseline\": \"auto\", \"rotation\": -0.0, \"fontsize\": 9.0, \"color\": \"#000000\", \"alpha\": 1, \"zorder\": 3, \"id\": \"el68140367127329952\"}, {\"text\": \"quinoa\", \"position\": [-2.6167949163414734, -10.626389424007114], \"coordinates\": \"data\", \"h_anchor\": \"start\", \"v_baseline\": \"auto\", \"rotation\": -0.0, \"fontsize\": 9.0, \"color\": \"#000000\", \"alpha\": 1, \"zorder\": 3, \"id\": \"el68140367127328176\"}], \"collections\": [{\"offsets\": \"data01\", \"xindex\": 0, \"yindex\": 1, \"paths\": [[[[-0.5, -0.5], [0.5, 0.5], [-0.5, 0.5], [0.5, -0.5]], [\"M\", \"L\", \"M\", \"L\"]]], \"pathtransforms\": [[6.0, 0.0, 0.0, 6.0, 0.0, 0.0]], \"alphas\": [null], \"edgecolors\": [\"#FF0000\"], \"facecolors\": [\"#FF0000\"], \"edgewidths\": [1.5], \"offsetcoordinates\": \"data\", \"pathcoordinates\": \"display\", \"zorder\": 1, \"id\": \"el68140367126297664\"}, {\"offsets\": \"data02\", \"xindex\": 0, \"yindex\": 1, \"paths\": [[[[-0.5, -0.5], [0.5, 0.5], [-0.5, 0.5], [0.5, -0.5]], [\"M\", \"L\", \"M\", \"L\"]]], \"pathtransforms\": [[6.0, 0.0, 0.0, 6.0, 0.0, 0.0]], \"alphas\": [null], \"edgecolors\": [\"#FF0000\"], \"facecolors\": [\"#FF0000\"], \"edgewidths\": [1.5], \"offsetcoordinates\": \"data\", \"pathcoordinates\": \"display\", \"zorder\": 1, \"id\": \"el68140367126735168\"}, {\"offsets\": \"data03\", \"xindex\": 0, \"yindex\": 1, \"paths\": [[[[-0.5, -0.5], [0.5, 0.5], [-0.5, 0.5], [0.5, -0.5]], [\"M\", \"L\", \"M\", \"L\"]]], \"pathtransforms\": [[6.0, 0.0, 0.0, 6.0, 0.0, 0.0]], \"alphas\": [null], \"edgecolors\": [\"#FF0000\"], \"facecolors\": [\"#FF0000\"], \"edgewidths\": [1.5], \"offsetcoordinates\": \"data\", \"pathcoordinates\": \"display\", \"zorder\": 1, \"id\": \"el68140367126734112\"}, {\"offsets\": \"data04\", \"xindex\": 0, \"yindex\": 1, \"paths\": [[[[-0.5, -0.5], [0.5, 0.5], [-0.5, 0.5], [0.5, -0.5]], [\"M\", \"L\", \"M\", \"L\"]]], \"pathtransforms\": [[6.0, 0.0, 0.0, 6.0, 0.0, 0.0]], \"alphas\": [null], \"edgecolors\": [\"#FF0000\"], \"facecolors\": [\"#FF0000\"], \"edgewidths\": [1.5], \"offsetcoordinates\": \"data\", \"pathcoordinates\": \"display\", \"zorder\": 1, \"id\": \"el68140367126618176\"}, {\"offsets\": \"data05\", \"xindex\": 0, \"yindex\": 1, \"paths\": [[[[-0.5, -0.5], [0.5, 0.5], [-0.5, 0.5], [0.5, -0.5]], [\"M\", \"L\", \"M\", \"L\"]]], \"pathtransforms\": [[6.0, 0.0, 0.0, 6.0, 0.0, 0.0]], \"alphas\": [null], \"edgecolors\": [\"#FF0000\"], \"facecolors\": [\"#FF0000\"], \"edgewidths\": [1.5], \"offsetcoordinates\": \"data\", \"pathcoordinates\": \"display\", \"zorder\": 1, \"id\": \"el68140367126621200\"}, {\"offsets\": \"data06\", \"xindex\": 0, \"yindex\": 1, \"paths\": [[[[-0.5, -0.5], [0.5, 0.5], [-0.5, 0.5], [0.5, -0.5]], [\"M\", \"L\", \"M\", \"L\"]]], \"pathtransforms\": [[6.0, 0.0, 0.0, 6.0, 0.0, 0.0]], \"alphas\": [null], \"edgecolors\": [\"#FF0000\"], \"facecolors\": [\"#FF0000\"], \"edgewidths\": [1.5], \"offsetcoordinates\": \"data\", \"pathcoordinates\": \"display\", \"zorder\": 1, \"id\": \"el68140367126620576\"}, {\"offsets\": \"data07\", \"xindex\": 0, \"yindex\": 1, \"paths\": [[[[-0.5, -0.5], [0.5, 0.5], [-0.5, 0.5], [0.5, -0.5]], [\"M\", \"L\", \"M\", \"L\"]]], \"pathtransforms\": [[6.0, 0.0, 0.0, 6.0, 0.0, 0.0]], \"alphas\": [null], \"edgecolors\": [\"#FF0000\"], \"facecolors\": [\"#FF0000\"], \"edgewidths\": [1.5], \"offsetcoordinates\": \"data\", \"pathcoordinates\": \"display\", \"zorder\": 1, \"id\": \"el68140367127352992\"}, {\"offsets\": \"data08\", \"xindex\": 0, \"yindex\": 1, \"paths\": [[[[-0.5, -0.5], [0.5, 0.5], [-0.5, 0.5], [0.5, -0.5]], [\"M\", \"L\", \"M\", \"L\"]]], \"pathtransforms\": [[6.0, 0.0, 0.0, 6.0, 0.0, 0.0]], \"alphas\": [null], \"edgecolors\": [\"#FF0000\"], \"facecolors\": [\"#FF0000\"], \"edgewidths\": [1.5], \"offsetcoordinates\": \"data\", \"pathcoordinates\": \"display\", \"zorder\": 1, \"id\": \"el68140367127352224\"}, {\"offsets\": \"data09\", \"xindex\": 0, \"yindex\": 1, \"paths\": [[[[-0.5, -0.5], [0.5, 0.5], [-0.5, 0.5], [0.5, -0.5]], [\"M\", \"L\", \"M\", \"L\"]]], \"pathtransforms\": [[6.0, 0.0, 0.0, 6.0, 0.0, 0.0]], \"alphas\": [null], \"edgecolors\": [\"#FF0000\"], \"facecolors\": [\"#FF0000\"], \"edgewidths\": [1.5], \"offsetcoordinates\": \"data\", \"pathcoordinates\": \"display\", \"zorder\": 1, \"id\": \"el68140367127352080\"}, {\"offsets\": \"data10\", \"xindex\": 0, \"yindex\": 1, \"paths\": [[[[-0.5, -0.5], [0.5, 0.5], [-0.5, 0.5], [0.5, -0.5]], [\"M\", \"L\", \"M\", \"L\"]]], \"pathtransforms\": [[6.0, 0.0, 0.0, 6.0, 0.0, 0.0]], \"alphas\": [null], \"edgecolors\": [\"#FF0000\"], \"facecolors\": [\"#FF0000\"], \"edgewidths\": [1.5], \"offsetcoordinates\": \"data\", \"pathcoordinates\": \"display\", \"zorder\": 1, \"id\": \"el68140367127298784\"}, {\"offsets\": \"data11\", \"xindex\": 0, \"yindex\": 1, \"paths\": [[[[-0.5, -0.5], [0.5, 0.5], [-0.5, 0.5], [0.5, -0.5]], [\"M\", \"L\", \"M\", \"L\"]]], \"pathtransforms\": [[6.0, 0.0, 0.0, 6.0, 0.0, 0.0]], \"alphas\": [null], \"edgecolors\": [\"#FF0000\"], \"facecolors\": [\"#FF0000\"], \"edgewidths\": [1.5], \"offsetcoordinates\": \"data\", \"pathcoordinates\": \"display\", \"zorder\": 1, \"id\": \"el68140367127300416\"}, {\"offsets\": \"data12\", \"xindex\": 0, \"yindex\": 1, \"paths\": [[[[-0.5, -0.5], [0.5, 0.5], [-0.5, 0.5], [0.5, -0.5]], [\"M\", \"L\", \"M\", \"L\"]]], \"pathtransforms\": [[6.0, 0.0, 0.0, 6.0, 0.0, 0.0]], \"alphas\": [null], \"edgecolors\": [\"#FF0000\"], \"facecolors\": [\"#FF0000\"], \"edgewidths\": [1.5], \"offsetcoordinates\": \"data\", \"pathcoordinates\": \"display\", \"zorder\": 1, \"id\": \"el68140367127299264\"}, {\"offsets\": \"data13\", \"xindex\": 0, \"yindex\": 1, \"paths\": [[[[-0.5, -0.5], [0.5, 0.5], [-0.5, 0.5], [0.5, -0.5]], [\"M\", \"L\", \"M\", \"L\"]]], \"pathtransforms\": [[6.0, 0.0, 0.0, 6.0, 0.0, 0.0]], \"alphas\": [null], \"edgecolors\": [\"#FF0000\"], \"facecolors\": [\"#FF0000\"], \"edgewidths\": [1.5], \"offsetcoordinates\": \"data\", \"pathcoordinates\": \"display\", \"zorder\": 1, \"id\": \"el68140367126661440\"}, {\"offsets\": \"data14\", \"xindex\": 0, \"yindex\": 1, \"paths\": [[[[-0.5, -0.5], [0.5, 0.5], [-0.5, 0.5], [0.5, -0.5]], [\"M\", \"L\", \"M\", \"L\"]]], \"pathtransforms\": [[6.0, 0.0, 0.0, 6.0, 0.0, 0.0]], \"alphas\": [null], \"edgecolors\": [\"#FF0000\"], \"facecolors\": [\"#FF0000\"], \"edgewidths\": [1.5], \"offsetcoordinates\": \"data\", \"pathcoordinates\": \"display\", \"zorder\": 1, \"id\": \"el68140367126661584\"}, {\"offsets\": \"data15\", \"xindex\": 0, \"yindex\": 1, \"paths\": [[[[-0.5, -0.5], [0.5, 0.5], [-0.5, 0.5], [0.5, -0.5]], [\"M\", \"L\", \"M\", \"L\"]]], \"pathtransforms\": [[6.0, 0.0, 0.0, 6.0, 0.0, 0.0]], \"alphas\": [null], \"edgecolors\": [\"#FF0000\"], \"facecolors\": [\"#FF0000\"], \"edgewidths\": [1.5], \"offsetcoordinates\": \"data\", \"pathcoordinates\": \"display\", \"zorder\": 1, \"id\": \"el68140367127301424\"}, {\"offsets\": \"data16\", \"xindex\": 0, \"yindex\": 1, \"paths\": [[[[-0.5, -0.5], [0.5, 0.5], [-0.5, 0.5], [0.5, -0.5]], [\"M\", \"L\", \"M\", \"L\"]]], \"pathtransforms\": [[6.0, 0.0, 0.0, 6.0, 0.0, 0.0]], \"alphas\": [null], \"edgecolors\": [\"#FF0000\"], \"facecolors\": [\"#FF0000\"], \"edgewidths\": [1.5], \"offsetcoordinates\": \"data\", \"pathcoordinates\": \"display\", \"zorder\": 1, \"id\": \"el68140367127216768\"}, {\"offsets\": \"data17\", \"xindex\": 0, \"yindex\": 1, \"paths\": [[[[-0.5, -0.5], [0.5, 0.5], [-0.5, 0.5], [0.5, -0.5]], [\"M\", \"L\", \"M\", \"L\"]]], \"pathtransforms\": [[6.0, 0.0, 0.0, 6.0, 0.0, 0.0]], \"alphas\": [null], \"edgecolors\": [\"#FF0000\"], \"facecolors\": [\"#FF0000\"], \"edgewidths\": [1.5], \"offsetcoordinates\": \"data\", \"pathcoordinates\": \"display\", \"zorder\": 1, \"id\": \"el68140367127220176\"}, {\"offsets\": \"data18\", \"xindex\": 0, \"yindex\": 1, \"paths\": [[[[-0.5, -0.5], [0.5, 0.5], [-0.5, 0.5], [0.5, -0.5]], [\"M\", \"L\", \"M\", \"L\"]]], \"pathtransforms\": [[6.0, 0.0, 0.0, 6.0, 0.0, 0.0]], \"alphas\": [null], \"edgecolors\": [\"#FF0000\"], \"facecolors\": [\"#FF0000\"], \"edgewidths\": [1.5], \"offsetcoordinates\": \"data\", \"pathcoordinates\": \"display\", \"zorder\": 1, \"id\": \"el68140367127218736\"}, {\"offsets\": \"data19\", \"xindex\": 0, \"yindex\": 1, \"paths\": [[[[-0.5, -0.5], [0.5, 0.5], [-0.5, 0.5], [0.5, -0.5]], [\"M\", \"L\", \"M\", \"L\"]]], \"pathtransforms\": [[6.0, 0.0, 0.0, 6.0, 0.0, 0.0]], \"alphas\": [null], \"edgecolors\": [\"#FF0000\"], \"facecolors\": [\"#FF0000\"], \"edgewidths\": [1.5], \"offsetcoordinates\": \"data\", \"pathcoordinates\": \"display\", \"zorder\": 1, \"id\": \"el68140367127328992\"}], \"images\": [], \"sharex\": [], \"sharey\": []}], \"data\": {\"data01\": [[0.8238451915882133, 0.5001182127776855]], \"data02\": [[-0.27368634056949986, -2.918544141521898]], \"data03\": [[-2.7756754084897812, -3.654925432623284]], \"data04\": [[2.916397372999372, 0.03170167341042429]], \"data05\": [[0.5880203922790316, -1.3234026124919192]], \"data06\": [[0.9149295446099459, -2.1946596366539683]], \"data07\": [[-1.1720126370366049, -5.728306333951098]], \"data08\": [[-3.0412990714890764, -1.8170454086599044]], \"data09\": [[2.8777584898642496, 1.168621913922294]], \"data10\": [[1.0442779716368227, -0.12113779800801838]], \"data11\": [[-3.25489655264408, -4.734235866062864]], \"data12\": [[-0.051757775538607165, -3.0001640228849062]], \"data13\": [[-1.2136608119731822, -3.8891886150688464]], \"data14\": [[0.7791394124415886, -1.0959093680044703]], \"data15\": [[-1.6160130396968035, -0.06820555696198527]], \"data16\": [[0.6951072691378327, -0.7143039446431183]], \"data17\": [[1.6603303482037348, -2.1912948051832726]], \"data18\": [[3.0271923711878377, -3.0306247773259916]], \"data19\": [[-2.6170949163414736, -10.626689424007113]]}, \"id\": \"el68140367125477744\", \"plugins\": [{\"type\": \"reset\"}, {\"type\": \"zoom\", \"button\": true, \"enabled\": false}, {\"type\": \"boxzoom\", \"button\": true, \"enabled\": false}]});\n",
              "      });\n",
              "    });\n",
              "}else{\n",
              "    // require.js not available: dynamically load d3 & mpld3\n",
              "    mpld3_load_lib(\"https://d3js.org/d3.v5.js\", function(){\n",
              "         mpld3_load_lib(\"https://mpld3.github.io/js/mpld3.v0.5.9.js\", function(){\n",
              "                 \n",
              "                 mpld3.draw_figure(\"fig_el68140367125477744898619423\", {\"width\": 432.0, \"height\": 288.0, \"axes\": [{\"bbox\": [0.125, 0.125, 0.775, 0.755], \"xlim\": [-3.569000998835676, 3.3412968173794337], \"ylim\": [-11.216454990903584, 1.7583874808187643], \"xdomain\": [-3.569000998835676, 3.3412968173794337], \"ydomain\": [-11.216454990903584, 1.7583874808187643], \"xscale\": \"linear\", \"yscale\": \"linear\", \"axes\": [{\"position\": \"bottom\", \"nticks\": 9, \"tickvalues\": null, \"tickformat_formatter\": \"\", \"tickformat\": null, \"scale\": \"linear\", \"fontsize\": 10.0, \"grid\": {\"gridOn\": false}, \"visible\": true}, {\"position\": \"left\", \"nticks\": 8, \"tickvalues\": null, \"tickformat_formatter\": \"\", \"tickformat\": null, \"scale\": \"linear\", \"fontsize\": 10.0, \"grid\": {\"gridOn\": false}, \"visible\": true}], \"axesbg\": \"#FFFFFF\", \"axesbgalpha\": null, \"zoomable\": true, \"id\": \"el68140367126202304\", \"lines\": [], \"paths\": [], \"markers\": [], \"texts\": [{\"text\": \"cat\", \"position\": [0.8241451915882133, 0.5004182127776855], \"coordinates\": \"data\", \"h_anchor\": \"start\", \"v_baseline\": \"auto\", \"rotation\": -0.0, \"fontsize\": 9.0, \"color\": \"#000000\", \"alpha\": 1, \"zorder\": 3, \"id\": \"el68140367126736032\"}, {\"text\": \"grain\", \"position\": [-0.27338634056949984, -2.918244141521898], \"coordinates\": \"data\", \"h_anchor\": \"start\", \"v_baseline\": \"auto\", \"rotation\": -0.0, \"fontsize\": 9.0, \"color\": \"#000000\", \"alpha\": 1, \"zorder\": 3, \"id\": \"el68140367126733392\"}, {\"text\": \"wheat\", \"position\": [-2.775375408489781, -3.6546254326232837], \"coordinates\": \"data\", \"h_anchor\": \"start\", \"v_baseline\": \"auto\", \"rotation\": -0.0, \"fontsize\": 9.0, \"color\": \"#000000\", \"alpha\": 1, \"zorder\": 3, \"id\": \"el68140367126735504\"}, {\"text\": \"cow\", \"position\": [2.9166973729993724, 0.03200167341042429], \"coordinates\": \"data\", \"h_anchor\": \"start\", \"v_baseline\": \"auto\", \"rotation\": -0.0, \"fontsize\": 9.0, \"color\": \"#000000\", \"alpha\": 1, \"zorder\": 3, \"id\": \"el68140367126619232\"}, {\"text\": \"cheetah\", \"position\": [0.5883203922790315, -1.3231026124919192], \"coordinates\": \"data\", \"h_anchor\": \"start\", \"v_baseline\": \"auto\", \"rotation\": -0.0, \"fontsize\": 9.0, \"color\": \"#000000\", \"alpha\": 1, \"zorder\": 3, \"id\": \"el68140367126619568\"}, {\"text\": \"crow\", \"position\": [0.9152295446099459, -2.194359636653968], \"coordinates\": \"data\", \"h_anchor\": \"start\", \"v_baseline\": \"auto\", \"rotation\": -0.0, \"fontsize\": 9.0, \"color\": \"#000000\", \"alpha\": 1, \"zorder\": 3, \"id\": \"el68140367126618272\"}, {\"text\": \"corn\", \"position\": [-1.1717126370366049, -5.728006333951098], \"coordinates\": \"data\", \"h_anchor\": \"start\", \"v_baseline\": \"auto\", \"rotation\": -0.0, \"fontsize\": 9.0, \"color\": \"#000000\", \"alpha\": 1, \"zorder\": 3, \"id\": \"el68140367127352032\"}, {\"text\": \"maize\", \"position\": [-3.040999071489076, -1.8167454086599044], \"coordinates\": \"data\", \"h_anchor\": \"start\", \"v_baseline\": \"auto\", \"rotation\": -0.0, \"fontsize\": 9.0, \"color\": \"#000000\", \"alpha\": 1, \"zorder\": 3, \"id\": \"el68140367127353952\"}, {\"text\": \"dog\", \"position\": [2.87805848986425, 1.168921913922294], \"coordinates\": \"data\", \"h_anchor\": \"start\", \"v_baseline\": \"auto\", \"rotation\": -0.0, \"fontsize\": 9.0, \"color\": \"#000000\", \"alpha\": 1, \"zorder\": 3, \"id\": \"el68140367127353520\"}, {\"text\": \"camel\", \"position\": [1.0445779716368226, -0.12083779800801839], \"coordinates\": \"data\", \"h_anchor\": \"start\", \"v_baseline\": \"auto\", \"rotation\": -0.0, \"fontsize\": 9.0, \"color\": \"#000000\", \"alpha\": 1, \"zorder\": 3, \"id\": \"el68140367127301760\"}, {\"text\": \"rice\", \"position\": [-3.2545965526440797, -4.733935866062864], \"coordinates\": \"data\", \"h_anchor\": \"start\", \"v_baseline\": \"auto\", \"rotation\": -0.0, \"fontsize\": 9.0, \"color\": \"#000000\", \"alpha\": 1, \"zorder\": 3, \"id\": \"el68140367127299840\"}, {\"text\": \"barley\", \"position\": [-0.05145777553860716, -2.999864022884906], \"coordinates\": \"data\", \"h_anchor\": \"start\", \"v_baseline\": \"auto\", \"rotation\": -0.0, \"fontsize\": 9.0, \"color\": \"#000000\", \"alpha\": 1, \"zorder\": 3, \"id\": \"el68140367126662544\"}, {\"text\": \"grains\", \"position\": [-1.2133608119731822, -3.888888615068846], \"coordinates\": \"data\", \"h_anchor\": \"start\", \"v_baseline\": \"auto\", \"rotation\": -0.0, \"fontsize\": 9.0, \"color\": \"#000000\", \"alpha\": 1, \"zorder\": 3, \"id\": \"el68140367126661776\"}, {\"text\": \"tiger\", \"position\": [0.7794394124415885, -1.0956093680044703], \"coordinates\": \"data\", \"h_anchor\": \"start\", \"v_baseline\": \"auto\", \"rotation\": -0.0, \"fontsize\": 9.0, \"color\": \"#000000\", \"alpha\": 1, \"zorder\": 3, \"id\": \"el68140367126659808\"}, {\"text\": \"elephant\", \"position\": [-1.6157130396968036, -0.06790555696198528], \"coordinates\": \"data\", \"h_anchor\": \"start\", \"v_baseline\": \"auto\", \"rotation\": -0.0, \"fontsize\": 9.0, \"color\": \"#000000\", \"alpha\": 1, \"zorder\": 3, \"id\": \"el68140367127219504\"}, {\"text\": \"lion\", \"position\": [0.6954072691378327, -0.7140039446431183], \"coordinates\": \"data\", \"h_anchor\": \"start\", \"v_baseline\": \"auto\", \"rotation\": -0.0, \"fontsize\": 9.0, \"color\": \"#000000\", \"alpha\": 1, \"zorder\": 3, \"id\": \"el68140367127217728\"}, {\"text\": \"turtle\", \"position\": [1.6606303482037348, -2.1909948051832724], \"coordinates\": \"data\", \"h_anchor\": \"start\", \"v_baseline\": \"auto\", \"rotation\": -0.0, \"fontsize\": 9.0, \"color\": \"#000000\", \"alpha\": 1, \"zorder\": 3, \"id\": \"el68140367127217440\"}, {\"text\": \"rabbit\", \"position\": [3.027492371187838, -3.0303247773259914], \"coordinates\": \"data\", \"h_anchor\": \"start\", \"v_baseline\": \"auto\", \"rotation\": -0.0, \"fontsize\": 9.0, \"color\": \"#000000\", \"alpha\": 1, \"zorder\": 3, \"id\": \"el68140367127329952\"}, {\"text\": \"quinoa\", \"position\": [-2.6167949163414734, -10.626389424007114], \"coordinates\": \"data\", \"h_anchor\": \"start\", \"v_baseline\": \"auto\", \"rotation\": -0.0, \"fontsize\": 9.0, \"color\": \"#000000\", \"alpha\": 1, \"zorder\": 3, \"id\": \"el68140367127328176\"}], \"collections\": [{\"offsets\": \"data01\", \"xindex\": 0, \"yindex\": 1, \"paths\": [[[[-0.5, -0.5], [0.5, 0.5], [-0.5, 0.5], [0.5, -0.5]], [\"M\", \"L\", \"M\", \"L\"]]], \"pathtransforms\": [[6.0, 0.0, 0.0, 6.0, 0.0, 0.0]], \"alphas\": [null], \"edgecolors\": [\"#FF0000\"], \"facecolors\": [\"#FF0000\"], \"edgewidths\": [1.5], \"offsetcoordinates\": \"data\", \"pathcoordinates\": \"display\", \"zorder\": 1, \"id\": \"el68140367126297664\"}, {\"offsets\": \"data02\", \"xindex\": 0, \"yindex\": 1, \"paths\": [[[[-0.5, -0.5], [0.5, 0.5], [-0.5, 0.5], [0.5, -0.5]], [\"M\", \"L\", \"M\", \"L\"]]], \"pathtransforms\": [[6.0, 0.0, 0.0, 6.0, 0.0, 0.0]], \"alphas\": [null], \"edgecolors\": [\"#FF0000\"], \"facecolors\": [\"#FF0000\"], \"edgewidths\": [1.5], \"offsetcoordinates\": \"data\", \"pathcoordinates\": \"display\", \"zorder\": 1, \"id\": \"el68140367126735168\"}, {\"offsets\": \"data03\", \"xindex\": 0, \"yindex\": 1, \"paths\": [[[[-0.5, -0.5], [0.5, 0.5], [-0.5, 0.5], [0.5, -0.5]], [\"M\", \"L\", \"M\", \"L\"]]], \"pathtransforms\": [[6.0, 0.0, 0.0, 6.0, 0.0, 0.0]], \"alphas\": [null], \"edgecolors\": [\"#FF0000\"], \"facecolors\": [\"#FF0000\"], \"edgewidths\": [1.5], \"offsetcoordinates\": \"data\", \"pathcoordinates\": \"display\", \"zorder\": 1, \"id\": \"el68140367126734112\"}, {\"offsets\": \"data04\", \"xindex\": 0, \"yindex\": 1, \"paths\": [[[[-0.5, -0.5], [0.5, 0.5], [-0.5, 0.5], [0.5, -0.5]], [\"M\", \"L\", \"M\", \"L\"]]], \"pathtransforms\": [[6.0, 0.0, 0.0, 6.0, 0.0, 0.0]], \"alphas\": [null], \"edgecolors\": [\"#FF0000\"], \"facecolors\": [\"#FF0000\"], \"edgewidths\": [1.5], \"offsetcoordinates\": \"data\", \"pathcoordinates\": \"display\", \"zorder\": 1, \"id\": \"el68140367126618176\"}, {\"offsets\": \"data05\", \"xindex\": 0, \"yindex\": 1, \"paths\": [[[[-0.5, -0.5], [0.5, 0.5], [-0.5, 0.5], [0.5, -0.5]], [\"M\", \"L\", \"M\", \"L\"]]], \"pathtransforms\": [[6.0, 0.0, 0.0, 6.0, 0.0, 0.0]], \"alphas\": [null], \"edgecolors\": [\"#FF0000\"], \"facecolors\": [\"#FF0000\"], \"edgewidths\": [1.5], \"offsetcoordinates\": \"data\", \"pathcoordinates\": \"display\", \"zorder\": 1, \"id\": \"el68140367126621200\"}, {\"offsets\": \"data06\", \"xindex\": 0, \"yindex\": 1, \"paths\": [[[[-0.5, -0.5], [0.5, 0.5], [-0.5, 0.5], [0.5, -0.5]], [\"M\", \"L\", \"M\", \"L\"]]], \"pathtransforms\": [[6.0, 0.0, 0.0, 6.0, 0.0, 0.0]], \"alphas\": [null], \"edgecolors\": [\"#FF0000\"], \"facecolors\": [\"#FF0000\"], \"edgewidths\": [1.5], \"offsetcoordinates\": \"data\", \"pathcoordinates\": \"display\", \"zorder\": 1, \"id\": \"el68140367126620576\"}, {\"offsets\": \"data07\", \"xindex\": 0, \"yindex\": 1, \"paths\": [[[[-0.5, -0.5], [0.5, 0.5], [-0.5, 0.5], [0.5, -0.5]], [\"M\", \"L\", \"M\", \"L\"]]], \"pathtransforms\": [[6.0, 0.0, 0.0, 6.0, 0.0, 0.0]], \"alphas\": [null], \"edgecolors\": [\"#FF0000\"], \"facecolors\": [\"#FF0000\"], \"edgewidths\": [1.5], \"offsetcoordinates\": \"data\", \"pathcoordinates\": \"display\", \"zorder\": 1, \"id\": \"el68140367127352992\"}, {\"offsets\": \"data08\", \"xindex\": 0, \"yindex\": 1, \"paths\": [[[[-0.5, -0.5], [0.5, 0.5], [-0.5, 0.5], [0.5, -0.5]], [\"M\", \"L\", \"M\", \"L\"]]], \"pathtransforms\": [[6.0, 0.0, 0.0, 6.0, 0.0, 0.0]], \"alphas\": [null], \"edgecolors\": [\"#FF0000\"], \"facecolors\": [\"#FF0000\"], \"edgewidths\": [1.5], \"offsetcoordinates\": \"data\", \"pathcoordinates\": \"display\", \"zorder\": 1, \"id\": \"el68140367127352224\"}, {\"offsets\": \"data09\", \"xindex\": 0, \"yindex\": 1, \"paths\": [[[[-0.5, -0.5], [0.5, 0.5], [-0.5, 0.5], [0.5, -0.5]], [\"M\", \"L\", \"M\", \"L\"]]], \"pathtransforms\": [[6.0, 0.0, 0.0, 6.0, 0.0, 0.0]], \"alphas\": [null], \"edgecolors\": [\"#FF0000\"], \"facecolors\": [\"#FF0000\"], \"edgewidths\": [1.5], \"offsetcoordinates\": \"data\", \"pathcoordinates\": \"display\", \"zorder\": 1, \"id\": \"el68140367127352080\"}, {\"offsets\": \"data10\", \"xindex\": 0, \"yindex\": 1, \"paths\": [[[[-0.5, -0.5], [0.5, 0.5], [-0.5, 0.5], [0.5, -0.5]], [\"M\", \"L\", \"M\", \"L\"]]], \"pathtransforms\": [[6.0, 0.0, 0.0, 6.0, 0.0, 0.0]], \"alphas\": [null], \"edgecolors\": [\"#FF0000\"], \"facecolors\": [\"#FF0000\"], \"edgewidths\": [1.5], \"offsetcoordinates\": \"data\", \"pathcoordinates\": \"display\", \"zorder\": 1, \"id\": \"el68140367127298784\"}, {\"offsets\": \"data11\", \"xindex\": 0, \"yindex\": 1, \"paths\": [[[[-0.5, -0.5], [0.5, 0.5], [-0.5, 0.5], [0.5, -0.5]], [\"M\", \"L\", \"M\", \"L\"]]], \"pathtransforms\": [[6.0, 0.0, 0.0, 6.0, 0.0, 0.0]], \"alphas\": [null], \"edgecolors\": [\"#FF0000\"], \"facecolors\": [\"#FF0000\"], \"edgewidths\": [1.5], \"offsetcoordinates\": \"data\", \"pathcoordinates\": \"display\", \"zorder\": 1, \"id\": \"el68140367127300416\"}, {\"offsets\": \"data12\", \"xindex\": 0, \"yindex\": 1, \"paths\": [[[[-0.5, -0.5], [0.5, 0.5], [-0.5, 0.5], [0.5, -0.5]], [\"M\", \"L\", \"M\", \"L\"]]], \"pathtransforms\": [[6.0, 0.0, 0.0, 6.0, 0.0, 0.0]], \"alphas\": [null], \"edgecolors\": [\"#FF0000\"], \"facecolors\": [\"#FF0000\"], \"edgewidths\": [1.5], \"offsetcoordinates\": \"data\", \"pathcoordinates\": \"display\", \"zorder\": 1, \"id\": \"el68140367127299264\"}, {\"offsets\": \"data13\", \"xindex\": 0, \"yindex\": 1, \"paths\": [[[[-0.5, -0.5], [0.5, 0.5], [-0.5, 0.5], [0.5, -0.5]], [\"M\", \"L\", \"M\", \"L\"]]], \"pathtransforms\": [[6.0, 0.0, 0.0, 6.0, 0.0, 0.0]], \"alphas\": [null], \"edgecolors\": [\"#FF0000\"], \"facecolors\": [\"#FF0000\"], \"edgewidths\": [1.5], \"offsetcoordinates\": \"data\", \"pathcoordinates\": \"display\", \"zorder\": 1, \"id\": \"el68140367126661440\"}, {\"offsets\": \"data14\", \"xindex\": 0, \"yindex\": 1, \"paths\": [[[[-0.5, -0.5], [0.5, 0.5], [-0.5, 0.5], [0.5, -0.5]], [\"M\", \"L\", \"M\", \"L\"]]], \"pathtransforms\": [[6.0, 0.0, 0.0, 6.0, 0.0, 0.0]], \"alphas\": [null], \"edgecolors\": [\"#FF0000\"], \"facecolors\": [\"#FF0000\"], \"edgewidths\": [1.5], \"offsetcoordinates\": \"data\", \"pathcoordinates\": \"display\", \"zorder\": 1, \"id\": \"el68140367126661584\"}, {\"offsets\": \"data15\", \"xindex\": 0, \"yindex\": 1, \"paths\": [[[[-0.5, -0.5], [0.5, 0.5], [-0.5, 0.5], [0.5, -0.5]], [\"M\", \"L\", \"M\", \"L\"]]], \"pathtransforms\": [[6.0, 0.0, 0.0, 6.0, 0.0, 0.0]], \"alphas\": [null], \"edgecolors\": [\"#FF0000\"], \"facecolors\": [\"#FF0000\"], \"edgewidths\": [1.5], \"offsetcoordinates\": \"data\", \"pathcoordinates\": \"display\", \"zorder\": 1, \"id\": \"el68140367127301424\"}, {\"offsets\": \"data16\", \"xindex\": 0, \"yindex\": 1, \"paths\": [[[[-0.5, -0.5], [0.5, 0.5], [-0.5, 0.5], [0.5, -0.5]], [\"M\", \"L\", \"M\", \"L\"]]], \"pathtransforms\": [[6.0, 0.0, 0.0, 6.0, 0.0, 0.0]], \"alphas\": [null], \"edgecolors\": [\"#FF0000\"], \"facecolors\": [\"#FF0000\"], \"edgewidths\": [1.5], \"offsetcoordinates\": \"data\", \"pathcoordinates\": \"display\", \"zorder\": 1, \"id\": \"el68140367127216768\"}, {\"offsets\": \"data17\", \"xindex\": 0, \"yindex\": 1, \"paths\": [[[[-0.5, -0.5], [0.5, 0.5], [-0.5, 0.5], [0.5, -0.5]], [\"M\", \"L\", \"M\", \"L\"]]], \"pathtransforms\": [[6.0, 0.0, 0.0, 6.0, 0.0, 0.0]], \"alphas\": [null], \"edgecolors\": [\"#FF0000\"], \"facecolors\": [\"#FF0000\"], \"edgewidths\": [1.5], \"offsetcoordinates\": \"data\", \"pathcoordinates\": \"display\", \"zorder\": 1, \"id\": \"el68140367127220176\"}, {\"offsets\": \"data18\", \"xindex\": 0, \"yindex\": 1, \"paths\": [[[[-0.5, -0.5], [0.5, 0.5], [-0.5, 0.5], [0.5, -0.5]], [\"M\", \"L\", \"M\", \"L\"]]], \"pathtransforms\": [[6.0, 0.0, 0.0, 6.0, 0.0, 0.0]], \"alphas\": [null], \"edgecolors\": [\"#FF0000\"], \"facecolors\": [\"#FF0000\"], \"edgewidths\": [1.5], \"offsetcoordinates\": \"data\", \"pathcoordinates\": \"display\", \"zorder\": 1, \"id\": \"el68140367127218736\"}, {\"offsets\": \"data19\", \"xindex\": 0, \"yindex\": 1, \"paths\": [[[[-0.5, -0.5], [0.5, 0.5], [-0.5, 0.5], [0.5, -0.5]], [\"M\", \"L\", \"M\", \"L\"]]], \"pathtransforms\": [[6.0, 0.0, 0.0, 6.0, 0.0, 0.0]], \"alphas\": [null], \"edgecolors\": [\"#FF0000\"], \"facecolors\": [\"#FF0000\"], \"edgewidths\": [1.5], \"offsetcoordinates\": \"data\", \"pathcoordinates\": \"display\", \"zorder\": 1, \"id\": \"el68140367127328992\"}], \"images\": [], \"sharex\": [], \"sharey\": []}], \"data\": {\"data01\": [[0.8238451915882133, 0.5001182127776855]], \"data02\": [[-0.27368634056949986, -2.918544141521898]], \"data03\": [[-2.7756754084897812, -3.654925432623284]], \"data04\": [[2.916397372999372, 0.03170167341042429]], \"data05\": [[0.5880203922790316, -1.3234026124919192]], \"data06\": [[0.9149295446099459, -2.1946596366539683]], \"data07\": [[-1.1720126370366049, -5.728306333951098]], \"data08\": [[-3.0412990714890764, -1.8170454086599044]], \"data09\": [[2.8777584898642496, 1.168621913922294]], \"data10\": [[1.0442779716368227, -0.12113779800801838]], \"data11\": [[-3.25489655264408, -4.734235866062864]], \"data12\": [[-0.051757775538607165, -3.0001640228849062]], \"data13\": [[-1.2136608119731822, -3.8891886150688464]], \"data14\": [[0.7791394124415886, -1.0959093680044703]], \"data15\": [[-1.6160130396968035, -0.06820555696198527]], \"data16\": [[0.6951072691378327, -0.7143039446431183]], \"data17\": [[1.6603303482037348, -2.1912948051832726]], \"data18\": [[3.0271923711878377, -3.0306247773259916]], \"data19\": [[-2.6170949163414736, -10.626689424007113]]}, \"id\": \"el68140367125477744\", \"plugins\": [{\"type\": \"reset\"}, {\"type\": \"zoom\", \"button\": true, \"enabled\": false}, {\"type\": \"boxzoom\", \"button\": true, \"enabled\": false}]});\n",
              "            })\n",
              "         });\n",
              "}\n",
              "</script>"
            ],
            "image/png": "[encoded data removed]"
          },
          "metadata": {
            "needs_background": "light"
          }
        }
      ]
    },
    {
      "cell_type": "markdown",
      "source": [
        "Nice! What do you think? Are you able to see any particular pattern in the visualization of the word vectors? \n",
        "\n",
        "\n",
        "## **Question 5:** interpreting the result of the visualizaton  \n",
        "In one or two sentences, explain how you interpret the results of this visualization. \n"
      ],
      "metadata": {
        "id": "4A8A9iIVNjXR"
      }
    },
    {
      "cell_type": "markdown",
      "source": [
        "**A few additional notes beyond the scope of this class:**\n",
        "You might wonder why random projection works. The intuition is that random project perseves relative distance between any pair of points (i.e., a pair of points that are closed in high dimension remain close in lower dimension). This idea is formally stated by [Johnson–Lindenstrauss lemma](https://en.wikipedia.org/wiki/Johnson%E2%80%93Lindenstrauss_lemma). One can use fancier algorithmic tools such as PCA, SVD or t-SNE to do this projection which you can check them in your own time. It is worth emphasicizing that none of these random projections are perfect -- projection from high-dimensions is fundamentally a losssy process. "
      ],
      "metadata": {
        "id": "wx8Da0X0NJUw"
      }
    },
    {
      "cell_type": "markdown",
      "metadata": {
        "id": "mAPhDNqmVbZR"
      },
      "source": [
        "# 4 - Weaknesses of Word2Vec\n",
        "\n",
        "One weakness of the original word2vec algorithm was that it has no way of dealing with words that were not in the original training data. Take, for example, the following:"
      ]
    },
    {
      "cell_type": "code",
      "execution_count": null,
      "metadata": {
        "colab": {
          "base_uri": "https://localhost:8080/"
        },
        "id": "pW9DxFtIVd-r",
        "outputId": "06fc91c6-fcc0-4f04-ffb1-de9d6c79a5ee"
      },
      "outputs": [
        {
          "name": "stdout",
          "output_type": "stream",
          "text": [
            "\"word 'kneee' not in vocabulary\"\n"
          ]
        }
      ],
      "source": [
        "try:\n",
        "  embeddings.most_similar('kneee')\n",
        "except KeyError as e:\n",
        "  print(e)"
      ]
    },
    {
      "cell_type": "markdown",
      "metadata": {
        "id": "9xY5UhQDVfZ1"
      },
      "source": [
        "### Congratulations!\n",
        "\n",
        "You've come to the end of this assignment. Here are the main points you should remember:\n",
        "\n",
        "- Cosine similarity a good way to compare similarity between pairs of word vectors. (Though L2 distance works too.) \n",
        "- For NLP applications, using a pre-trained set of word vectors from the internet is often a good way to get started. \n",
        "\n",
        "Even though you have finished the graded portions, we recommend you take a look too at the rest of this notebook. \n",
        "\n",
        "Congratulations on finishing the graded portions of this notebook! \n"
      ]
    }
  ]
}